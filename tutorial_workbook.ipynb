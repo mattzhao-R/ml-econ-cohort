{
 "cells": [
  {
   "cell_type": "markdown",
   "id": "a47528aa-9aa1-4e82-9792-267d9e47b885",
   "metadata": {},
   "source": [
    "## Intro to Programming Workbook\n",
    "\n",
    "Let's practice some of the concepts we've now learned with some coding problems"
   ]
  },
  {
   "cell_type": "markdown",
   "id": "d1fe268c-c81e-4fb9-885c-c62b543013c3",
   "metadata": {},
   "source": [
    "#### Lists, Variables, and Math in Python\n",
    "Create a list named `lst` with the numbers 1, 5, and 10"
   ]
  },
  {
   "cell_type": "code",
   "execution_count": null,
   "id": "a9b36489-9b71-4f5c-87e6-3aa7e4d679cf",
   "metadata": {},
   "outputs": [],
   "source": []
  },
  {
   "cell_type": "markdown",
   "id": "ec0941fb-0a57-4d90-a617-9dbdcd07a29d",
   "metadata": {},
   "source": [
    "Change the second element of the list to the word 'dog'."
   ]
  },
  {
   "cell_type": "code",
   "execution_count": null,
   "id": "5a2d5262-bf56-475e-adc8-6a78b49b18ae",
   "metadata": {},
   "outputs": [],
   "source": []
  },
  {
   "cell_type": "markdown",
   "id": "43495a1a-b73c-492c-a41a-79075cae1322",
   "metadata": {},
   "source": [
    "Add 5 to the final element of the list."
   ]
  },
  {
   "cell_type": "code",
   "execution_count": null,
   "id": "befe9f83-69af-4af3-b1d7-f2cc94a2bf85",
   "metadata": {},
   "outputs": [],
   "source": []
  },
  {
   "cell_type": "markdown",
   "id": "8107f1dd-1205-4e66-8cd2-143687ea3249",
   "metadata": {},
   "source": [
    "Print your resulting list"
   ]
  },
  {
   "cell_type": "code",
   "execution_count": null,
   "id": "c274a9e0-3b4d-41d6-ba96-cfcaf5a9955c",
   "metadata": {},
   "outputs": [],
   "source": []
  },
  {
   "cell_type": "markdown",
   "id": "7fdf68db-2934-4f3d-bc0e-d075b8f93cc5",
   "metadata": {},
   "source": [
    "#### Loops and Functions"
   ]
  },
  {
   "cell_type": "markdown",
   "id": "5e7627ec-7938-4baf-953a-03636cf8b915",
   "metadata": {},
   "source": [
    "Define a function `square` that squares its input"
   ]
  },
  {
   "cell_type": "code",
   "execution_count": null,
   "id": "ab690cf6-ea78-4c06-937c-e80835e4f83b",
   "metadata": {},
   "outputs": [],
   "source": []
  },
  {
   "cell_type": "markdown",
   "id": "2256066b-50f5-429d-88ca-5d5d6a059720",
   "metadata": {},
   "source": [
    "Create a list of 3 numbers."
   ]
  },
  {
   "cell_type": "code",
   "execution_count": null,
   "id": "c2699e5f-7aa8-48af-8615-422297312510",
   "metadata": {},
   "outputs": [],
   "source": []
  },
  {
   "cell_type": "markdown",
   "id": "befdefa0-8e31-4272-b803-5fa72724096a",
   "metadata": {},
   "source": [
    "Apply your function from earlier to your list and print each value."
   ]
  },
  {
   "cell_type": "code",
   "execution_count": null,
   "id": "bd2cd02b-3ceb-435a-aab2-207c07c72617",
   "metadata": {},
   "outputs": [],
   "source": []
  },
  {
   "cell_type": "markdown",
   "id": "43f83b95-e5d6-4553-82b6-223ffc034ede",
   "metadata": {},
   "source": [
    "Change the value of each number in your list to a word."
   ]
  },
  {
   "cell_type": "code",
   "execution_count": null,
   "id": "3becf8d7-9847-49b0-9cf8-9f402f58d63a",
   "metadata": {},
   "outputs": [],
   "source": []
  },
  {
   "cell_type": "markdown",
   "id": "5cce1547-2e6c-4eac-87ca-6520acfaa97e",
   "metadata": {},
   "source": [
    "#### Arrays"
   ]
  },
  {
   "cell_type": "markdown",
   "id": "d9598d5c-3b5a-4498-91d7-1b7492b7038c",
   "metadata": {},
   "source": [
    "Make a 2D array with one column being 3 animals and another being 3 numbers"
   ]
  },
  {
   "cell_type": "code",
   "execution_count": null,
   "id": "4b1ca5c0-82d0-4b54-9771-1752d5bfa10c",
   "metadata": {},
   "outputs": [],
   "source": []
  },
  {
   "cell_type": "markdown",
   "id": "e76c8bba-77b8-4f6c-be91-730a8740aa9b",
   "metadata": {},
   "source": [
    "Make a 1D array of numbers and multiply it by 3."
   ]
  },
  {
   "cell_type": "code",
   "execution_count": null,
   "id": "799c0a28-31a4-4339-bf6d-ec1ac5822ca7",
   "metadata": {},
   "outputs": [],
   "source": []
  }
 ],
 "metadata": {
  "kernelspec": {
   "display_name": "Python 3 (ipykernel)",
   "language": "python",
   "name": "python3"
  },
  "language_info": {
   "codemirror_mode": {
    "name": "ipython",
    "version": 3
   },
   "file_extension": ".py",
   "mimetype": "text/x-python",
   "name": "python",
   "nbconvert_exporter": "python",
   "pygments_lexer": "ipython3",
   "version": "3.9.7"
  }
 },
 "nbformat": 4,
 "nbformat_minor": 5
}
