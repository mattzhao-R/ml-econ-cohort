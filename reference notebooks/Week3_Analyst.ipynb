{
  "nbformat": 4,
  "nbformat_minor": 0,
  "metadata": {
    "colab": {
      "name": "Week3_Analyst.ipynb",
      "provenance": [],
      "collapsed_sections": [],
      "toc_visible": true
    },
    "kernelspec": {
      "name": "python3",
      "display_name": "Python 3"
    }
  },
  "cells": [
    {
      "cell_type": "markdown",
      "metadata": {
        "id": "OOZkFoGNL43U"
      },
      "source": [
        "# Introduction to NumPy, Pandas, and Matplotlib"
      ]
    },
    {
      "cell_type": "markdown",
      "metadata": {
        "id": "AyABjsR_LMvo"
      },
      "source": [
        "# Workshop Goals\n",
        "By the end of this workshop, you should have a basic understanding of the following topics:\n",
        "\n",
        "-   NumPy\n",
        "  - NumPy arrays\n",
        "  - Important NumPy operations\n",
        "-   Pandas\n",
        "  - Basics of DataFrames, Series\n",
        "  - Importing and exporting csv files\n",
        "  - DataFrame row and column operations\n",
        "  - Other useful DataFrame functions (e.g. Moving Average)\n",
        "-   Matplotlib\n",
        "  - Basic line graphs and parameters\n",
        "  - Histograms and scatterplots\n",
        "  - Overlaying graphs"
      ]
    },
    {
      "cell_type": "markdown",
      "metadata": {
        "id": "Idt9L9IWLXq2"
      },
      "source": [
        "# 0 Setting Up\n",
        "\n",
        "To run a code block, click on the code block and press Shift+Enter. Run the import code block below to import the libraries for this session."
      ]
    },
    {
      "cell_type": "code",
      "metadata": {
        "id": "V3RT5Z7sNpIm"
      },
      "source": [
        "# These are probably the three most important Python modules for data science\n",
        "# Import them at the start of all data related projects (even if you don't end up using them!)\n",
        "import numpy as np\n",
        "import pandas as pd\n",
        "import matplotlib.pyplot as plt"
      ],
      "execution_count": null,
      "outputs": []
    },
    {
      "cell_type": "markdown",
      "metadata": {
        "id": "-43EaZyQK7eP"
      },
      "source": [
        "# 1 Introduction to NumPy\n",
        "NumPy is a package used for computing and operating on n-dimensional arrays. For example, it has an in-built library of linear algebra operations which are very useful for more advanced quantitative methods. We wil be focusing on basic array operations that are useful across many applications.\n",
        "\n",
        "Documentation: https://docs.scipy.org/doc/"
      ]
    },
    {
      "cell_type": "markdown",
      "metadata": {
        "id": "yRgVdNz0OmFa"
      },
      "source": [
        "## 1A Getting familiar with NumPy arrays"
      ]
    },
    {
      "cell_type": "code",
      "metadata": {
        "id": "oZ37Dh-pP_aa"
      },
      "source": [
        "# What's the difference between Python list and NumPy arrays? \n",
        "# NumPy arrays use less memory and have better run-time behavior\n",
        "my_list = [1, 2, 3, 4]\n",
        "np_list = np.array([1, 2, 3, 4])\n",
        "\n",
        "# Equivalently, convert my_list to a NumPy array:\n",
        "np_list2 = np.array(my_list)\n",
        "\n",
        "# An example of a 2 x 4 array/matrix...\n",
        "np_matrix = np.array([[1, 2, 3, 4], [5, 6, 7, 8]])\n",
        "\n",
        "# Equivalently, we can also create the same 2 x 4 array from a pre-existing Python list\n",
        "my_matrix = [[1, 2, 3, 4], [5, 6, 7, 8]]\n",
        "np_matrix2 = np.array(my_matrix)\n",
        "\n",
        "# How can you get the 1st element of the second row of Z? Note indexing starts at 0!\n",
        "# ---INPUT ATTEMPT BELOW---"
      ],
      "execution_count": null,
      "outputs": []
    },
    {
      "cell_type": "code",
      "metadata": {
        "id": "w1IQDM1R-Ja7",
        "colab": {
          "base_uri": "https://localhost:8080/"
        },
        "outputId": "0119af85-3359-49a0-8a99-786a46f7030d"
      },
      "source": [
        "# Note that the Python array and NumPy array are different data types\n",
        "# The NumPy package contains a variety of built-in operations for numpy arrays\n",
        "print(type(my_list))\n",
        "print(type(np_list))"
      ],
      "execution_count": null,
      "outputs": [
        {
          "output_type": "stream",
          "text": [
            "<class 'list'>\n",
            "<class 'numpy.ndarray'>\n"
          ],
          "name": "stdout"
        }
      ]
    },
    {
      "cell_type": "markdown",
      "metadata": {
        "id": "ogU_Za5hCRby"
      },
      "source": [
        "### Array Operations"
      ]
    },
    {
      "cell_type": "code",
      "metadata": {
        "id": "Q0m_GFib-ozS",
        "colab": {
          "base_uri": "https://localhost:8080/"
        },
        "outputId": "17158dca-46aa-4e89-ea55-ec47e04ab832"
      },
      "source": [
        "# For example, say we want to increment every element in our list by 3. \n",
        "# We might iterate through our Python list to achieve this:\n",
        "new_list = my_list\n",
        "for i in range(len(new_list)):\n",
        "  new_list[i] += 3\n",
        "print(new_list)\n",
        "\n",
        "# Our numpy array achieves this through array arithmetics:\n",
        "new_np_list = np_list + 3\n",
        "print(new_np_list)"
      ],
      "execution_count": null,
      "outputs": [
        {
          "output_type": "stream",
          "text": [
            "[4, 5, 6, 7]\n",
            "[4 5 6 7]\n"
          ],
          "name": "stdout"
        }
      ]
    },
    {
      "cell_type": "code",
      "metadata": {
        "id": "nHSAPyRTCG6w",
        "colab": {
          "base_uri": "https://localhost:8080/"
        },
        "outputId": "f27595e6-0902-4039-dc26-32a0558695e0"
      },
      "source": [
        "# Array arithmetics present a powerful way of working with arrays\n",
        "# Here are some examples\n",
        "\n",
        "array = np.array([0, 1, 2, 3, 4, 5, 6, 7, 8])\n",
        "print(\"array = \", array)\n",
        "\n",
        "# Addition\n",
        "print(\"array + array = \", array + array)\n",
        "\n",
        "# Subtraction\n",
        "print(\"array - array = \", array - array)\n",
        "\n",
        "# Division\n",
        "print(\"1/array = \", 1/array)\n",
        "# Note that 1/0 here gives np.inf and a warning instead of an error\n",
        "print(\"array/array = \", array/array)\n",
        "# Note that 0/0 here gives np.nan (not a number) and a warning instead of an error\n",
        "\n",
        "# Exponents\n",
        "print(\"array**3 = \", array**3)\n",
        "\n",
        "# Question: What happens when we do array**array? Try it out!"
      ],
      "execution_count": null,
      "outputs": [
        {
          "output_type": "stream",
          "text": [
            "array =  [0 1 2 3 4 5 6 7 8]\n",
            "array + array =  [ 0  2  4  6  8 10 12 14 16]\n",
            "array - array =  [0 0 0 0 0 0 0 0 0]\n",
            "1/array =  [       inf 1.         0.5        0.33333333 0.25       0.2\n",
            " 0.16666667 0.14285714 0.125     ]\n",
            "array/array =  [nan  1.  1.  1.  1.  1.  1.  1.  1.]\n",
            "array**3 =  [  0   1   8  27  64 125 216 343 512]\n"
          ],
          "name": "stdout"
        },
        {
          "output_type": "stream",
          "text": [
            "/usr/local/lib/python3.6/dist-packages/ipykernel_launcher.py:14: RuntimeWarning: divide by zero encountered in true_divide\n",
            "  \n",
            "/usr/local/lib/python3.6/dist-packages/ipykernel_launcher.py:16: RuntimeWarning: invalid value encountered in true_divide\n",
            "  app.launch_new_instance()\n"
          ],
          "name": "stderr"
        }
      ]
    },
    {
      "cell_type": "code",
      "metadata": {
        "id": "I9D0j7OGEUHX",
        "colab": {
          "base_uri": "https://localhost:8080/"
        },
        "outputId": "eb088d03-9b29-4b78-f4ab-6abda7261267"
      },
      "source": [
        "# This \"array-operational\" logic can be applied to other cases too\n",
        "# When we apply Boolean operations this can be especially useful for subsetting arrays\n",
        "\n",
        "# Say we have a randomly generated list of integers from 0-50 using a built-in function\n",
        "arr = np.random.randint(0, 50, size=10)\n",
        "print(arr)\n",
        "\n",
        "# We can check which numbers are strictly greater than 25 using array operations\n",
        "bool_arr = arr > 25\n",
        "print(bool_arr)\n",
        "\n",
        "# We can then use the Boolean array to subset the original list --\n",
        "#  all of the elements that are False in bool_arr will be removed, and the ones\n",
        "#  that are True will be kept\n",
        "arr[bool_arr]"
      ],
      "execution_count": null,
      "outputs": [
        {
          "output_type": "stream",
          "text": [
            "[27 43 26 21 13  3 16 37 17  8]\n",
            "[ True  True  True False False False False  True False False]\n"
          ],
          "name": "stdout"
        },
        {
          "output_type": "execute_result",
          "data": {
            "text/plain": [
              "array([27, 43, 26, 37])"
            ]
          },
          "metadata": {
            "tags": []
          },
          "execution_count": 6
        }
      ]
    },
    {
      "cell_type": "markdown",
      "metadata": {
        "id": "mVa0UDoWP_sS"
      },
      "source": [
        "## 1B NumPy functions\n",
        "\n",
        "This section introduces a few important numpy functions. There are many other built-in functions in numpy, you can always look them up on the documentation when you need to use them."
      ]
    },
    {
      "cell_type": "markdown",
      "metadata": {
        "id": "BGU4hFW8ChHb"
      },
      "source": [
        "### Creating arrays"
      ]
    },
    {
      "cell_type": "code",
      "metadata": {
        "id": "bnI3Ox8xIUqI",
        "colab": {
          "base_uri": "https://localhost:8080/"
        },
        "outputId": "65e33b84-fa57-4b86-923b-7483806aa252"
      },
      "source": [
        "# We can use np.arange to create an integer array of evenly spaced values within a given interval\n",
        "print(np.arange(1, 20))\n",
        "print(np.arange(5, 20, 2))\n",
        "\n",
        "# We can use np.full to create an array of the same values\n",
        "print(np.full((2,5), 7))\n",
        "# There's a special alternative np.zeros which is faster\n",
        "print(np.zeros(5))"
      ],
      "execution_count": null,
      "outputs": [
        {
          "output_type": "stream",
          "text": [
            "[ 1  2  3  4  5  6  7  8  9 10 11 12 13 14 15 16 17 18 19]\n",
            "[ 5  7  9 11 13 15 17 19]\n",
            "[[7 7 7 7 7]\n",
            " [7 7 7 7 7]]\n",
            "[0. 0. 0. 0. 0.]\n"
          ],
          "name": "stdout"
        }
      ]
    },
    {
      "cell_type": "markdown",
      "metadata": {
        "id": "lDLPIJyLIVGW"
      },
      "source": [
        "### Shape and reshape"
      ]
    },
    {
      "cell_type": "code",
      "metadata": {
        "id": "mdR8bepJQJxc",
        "colab": {
          "base_uri": "https://localhost:8080/"
        },
        "outputId": "fd9eb4af-4d45-4f6a-fac3-00d4569b99ae"
      },
      "source": [
        "# You can find the dimensions of any given array by getting the .shape field\n",
        "print(\"Shape of np_list: \", np_list.shape)\n",
        "print(\"Shape of np_matrix: \", np_matrix.shape)\n",
        "\n",
        "# How could you extract the number of rows in Z? \n",
        "# ---INPUT ATTEMPT BELOW---"
      ],
      "execution_count": null,
      "outputs": [
        {
          "output_type": "stream",
          "text": [
            "Shape of np_list:  (4,)\n",
            "Shape of np_matrix:  (2, 4)\n"
          ],
          "name": "stdout"
        }
      ]
    },
    {
      "cell_type": "code",
      "metadata": {
        "id": "lgDuPa1ngWtl",
        "colab": {
          "base_uri": "https://localhost:8080/"
        },
        "outputId": "7b49ebd8-7f3a-4564-c4e6-9fd6f2e27897"
      },
      "source": [
        "# You can also change the dimension of nd-arrays using np.reshape\n",
        "arr = np.random.randint(1,100,10)\n",
        "\n",
        "# This reshapes a 1x10 matrix into a 2x5 matrix\n",
        "arr.reshape(2,5)"
      ],
      "execution_count": null,
      "outputs": [
        {
          "output_type": "execute_result",
          "data": {
            "text/plain": [
              "array([[95, 15, 85, 68, 29],\n",
              "       [ 2, 13,  2, 42, 16]])"
            ]
          },
          "metadata": {
            "tags": []
          },
          "execution_count": 9
        }
      ]
    },
    {
      "cell_type": "markdown",
      "metadata": {
        "id": "4yMDsTxhMPur"
      },
      "source": [
        "### Other array functions\n",
        "NumPy's built-in functions are in general faster (than say a for loop implementation) due to vectorization. This is because one instruction carries out the same operation on a number of operands in parallel.\n",
        "\n",
        "Visit this link for a more detailed explanation: https://stackoverflow.com/questions/35091979/why-is-vectorization-faster-in-general-than-loops\n",
        "Visit this link for an emprical analysis: https://hackernoon.com/speeding-up-your-code-2-vectorizing-the-loops-with-numpy-e380e939bed3\n"
      ]
    },
    {
      "cell_type": "code",
      "metadata": {
        "id": "b65xUouTMPMs",
        "colab": {
          "base_uri": "https://localhost:8080/"
        },
        "outputId": "fdd172ee-f817-41f1-9a6c-1d4df7a260e0"
      },
      "source": [
        "print(arr)\n",
        "\n",
        "# np.sum()\n",
        "print(np.sum(arr))\n",
        "print(np.sum(arr*5))\n",
        "\n",
        "# mean and np.average\n",
        "print(arr.mean())\n",
        "print(np.average(arr))\n",
        "\n",
        "# Can you guess the built-in functions for max and min?\n",
        "# ---INPUT ATTEMPT BELOW---"
      ],
      "execution_count": null,
      "outputs": [
        {
          "output_type": "stream",
          "text": [
            "[95 15 85 68 29  2 13  2 42 16]\n",
            "367\n",
            "1835\n",
            "36.7\n",
            "36.7\n"
          ],
          "name": "stdout"
        }
      ]
    },
    {
      "cell_type": "markdown",
      "metadata": {
        "id": "YeSL-uGLLdYN"
      },
      "source": [
        "# 2 Introduction to Pandas\n",
        "\n",
        "Pandas is a package used for manipulating and analyzing tabular data. It can be thought of as Python's implementation of Microsoft Excel, one that is arguably more powerful in many aspects. In quant finance, pandas is often used to analyze time series and portfolio data, although it can be applied to any kind of tabular data.\n",
        "\n",
        "Documentation: https://pandas.pydata.org/docs/"
      ]
    },
    {
      "cell_type": "markdown",
      "metadata": {
        "id": "JM33KCLiTVlu"
      },
      "source": [
        "## 2A Introduction to Pandas DataFrames and Series"
      ]
    },
    {
      "cell_type": "markdown",
      "metadata": {
        "id": "-9ctGtzWi_Kt"
      },
      "source": [
        "### DataFrames"
      ]
    },
    {
      "cell_type": "code",
      "metadata": {
        "id": "MVj7nl0mjCyh",
        "colab": {
          "base_uri": "https://localhost:8080/",
          "height": 201
        },
        "outputId": "e5ec2d63-0b0d-4528-a950-1e89fe9ebfeb"
      },
      "source": [
        "# A DataFrame is a table of values each corresponding to a row and a column\n",
        "# It can also be thought of as a NumPy array but with column and row names\n",
        "\n",
        "# There are many ways to create a DataFrame. One way is to feed a NumPy array as data:\n",
        "arr = arr.reshape(5,2)\n",
        "df = pd.DataFrame(arr, columns=[\"Player 1\", \"Player 2\"], index=[\"Round 1\", \"Round 2\", \"Round 3\", \"Round 4\", \"Round 5\"])\n",
        "df"
      ],
      "execution_count": null,
      "outputs": [
        {
          "output_type": "execute_result",
          "data": {
            "text/html": [
              "<div>\n",
              "<style scoped>\n",
              "    .dataframe tbody tr th:only-of-type {\n",
              "        vertical-align: middle;\n",
              "    }\n",
              "\n",
              "    .dataframe tbody tr th {\n",
              "        vertical-align: top;\n",
              "    }\n",
              "\n",
              "    .dataframe thead th {\n",
              "        text-align: right;\n",
              "    }\n",
              "</style>\n",
              "<table border=\"1\" class=\"dataframe\">\n",
              "  <thead>\n",
              "    <tr style=\"text-align: right;\">\n",
              "      <th></th>\n",
              "      <th>Player 1</th>\n",
              "      <th>Player 2</th>\n",
              "    </tr>\n",
              "  </thead>\n",
              "  <tbody>\n",
              "    <tr>\n",
              "      <th>Round 1</th>\n",
              "      <td>95</td>\n",
              "      <td>15</td>\n",
              "    </tr>\n",
              "    <tr>\n",
              "      <th>Round 2</th>\n",
              "      <td>85</td>\n",
              "      <td>68</td>\n",
              "    </tr>\n",
              "    <tr>\n",
              "      <th>Round 3</th>\n",
              "      <td>29</td>\n",
              "      <td>2</td>\n",
              "    </tr>\n",
              "    <tr>\n",
              "      <th>Round 4</th>\n",
              "      <td>13</td>\n",
              "      <td>2</td>\n",
              "    </tr>\n",
              "    <tr>\n",
              "      <th>Round 5</th>\n",
              "      <td>42</td>\n",
              "      <td>16</td>\n",
              "    </tr>\n",
              "  </tbody>\n",
              "</table>\n",
              "</div>"
            ],
            "text/plain": [
              "         Player 1  Player 2\n",
              "Round 1        95        15\n",
              "Round 2        85        68\n",
              "Round 3        29         2\n",
              "Round 4        13         2\n",
              "Round 5        42        16"
            ]
          },
          "metadata": {
            "tags": []
          },
          "execution_count": 11
        }
      ]
    },
    {
      "cell_type": "code",
      "metadata": {
        "id": "neSovw8Ijvu2",
        "colab": {
          "base_uri": "https://localhost:8080/",
          "height": 109
        },
        "outputId": "880add81-7bd0-47dc-d42c-78894b1d4c48"
      },
      "source": [
        "# DataFrame values are not limited to numerical values.\n",
        "# We can also create a DataFrame this way:\n",
        "df_strings = pd.DataFrame({'Alice': ['It was great', 'Not a fan'], 'Bob': ['Not the best', 'I liked it']}, index=['Fish', 'Steak'])\n",
        "df_strings"
      ],
      "execution_count": null,
      "outputs": [
        {
          "output_type": "execute_result",
          "data": {
            "text/html": [
              "<div>\n",
              "<style scoped>\n",
              "    .dataframe tbody tr th:only-of-type {\n",
              "        vertical-align: middle;\n",
              "    }\n",
              "\n",
              "    .dataframe tbody tr th {\n",
              "        vertical-align: top;\n",
              "    }\n",
              "\n",
              "    .dataframe thead th {\n",
              "        text-align: right;\n",
              "    }\n",
              "</style>\n",
              "<table border=\"1\" class=\"dataframe\">\n",
              "  <thead>\n",
              "    <tr style=\"text-align: right;\">\n",
              "      <th></th>\n",
              "      <th>Alice</th>\n",
              "      <th>Bob</th>\n",
              "    </tr>\n",
              "  </thead>\n",
              "  <tbody>\n",
              "    <tr>\n",
              "      <th>Fish</th>\n",
              "      <td>It was great</td>\n",
              "      <td>Not the best</td>\n",
              "    </tr>\n",
              "    <tr>\n",
              "      <th>Steak</th>\n",
              "      <td>Not a fan</td>\n",
              "      <td>I liked it</td>\n",
              "    </tr>\n",
              "  </tbody>\n",
              "</table>\n",
              "</div>"
            ],
            "text/plain": [
              "              Alice           Bob\n",
              "Fish   It was great  Not the best\n",
              "Steak     Not a fan    I liked it"
            ]
          },
          "metadata": {
            "tags": []
          },
          "execution_count": 13
        }
      ]
    },
    {
      "cell_type": "markdown",
      "metadata": {
        "id": "iKrKAUE6kbV8"
      },
      "source": [
        "### Series"
      ]
    },
    {
      "cell_type": "code",
      "metadata": {
        "id": "69oClPgjkebV",
        "colab": {
          "base_uri": "https://localhost:8080/"
        },
        "outputId": "e05ed904-2b5b-4fa0-b99a-85ac9b50fbcc"
      },
      "source": [
        "# A pandas Series is just a sequence/list of data\n",
        "series = pd.Series([1, 2, 3, 4, 5])\n",
        "print(series)\n",
        "\n",
        "# It can also be understood as a single column of a DataFrame hence can be\n",
        "# indexed, but does not have a column name as it is only one column\n",
        "series = pd.Series([300,400,500], index = ['Jan Sales', 'Feb Sales', 'Mar Sales'])\n",
        "print(series)"
      ],
      "execution_count": null,
      "outputs": [
        {
          "output_type": "stream",
          "text": [
            "0    1\n",
            "1    2\n",
            "2    3\n",
            "3    4\n",
            "4    5\n",
            "dtype: int64\n",
            "Jan Sales    300\n",
            "Feb Sales    400\n",
            "Mar Sales    500\n",
            "dtype: int64\n"
          ],
          "name": "stdout"
        }
      ]
    },
    {
      "cell_type": "markdown",
      "metadata": {
        "id": "FyF68OURTc6f"
      },
      "source": [
        "## 2B Importing csv files\n",
        "\n",
        "For the next part of this course we will be experimenting with pandas operations using real-world financial data - 1Y TSLA daily stock data from Yahoo Finance. We first use google.colab to import and read the csv file using pandas."
      ]
    },
    {
      "cell_type": "code",
      "metadata": {
        "id": "FD_kbMaYThPo",
        "colab": {
          "base_uri": "https://localhost:8080/"
        },
        "outputId": "efcb7fec-61bd-423f-fb3a-b28f3d421c23"
      },
      "source": [
        "# We run this code to mount Google Drive in Colab\n",
        "from google.colab import drive\n",
        "drive.mount('/content/drive')"
      ],
      "execution_count": null,
      "outputs": [
        {
          "output_type": "stream",
          "text": [
            "Mounted at /content/drive\n"
          ],
          "name": "stdout"
        }
      ]
    },
    {
      "cell_type": "code",
      "metadata": {
        "id": "b-Xfekislm9j",
        "colab": {
          "base_uri": "https://localhost:8080/",
          "height": 442
        },
        "outputId": "73d9bd3a-8c87-4b08-9c42-dbff31752936"
      },
      "source": [
        "# We would like to interpret the data in the right way, though...\n",
        "df = pd.read_csv('/content/drive/My Drive/MC/TSLA.csv',\n",
        "                index_col=0,       # Tell Pandas that the first column should be used as an index\n",
        "                parse_dates=[0]    # Tell Pandas to parse the column at index 0 as dates\n",
        "                )\n",
        "df"
      ],
      "execution_count": null,
      "outputs": [
        {
          "output_type": "execute_result",
          "data": {
            "text/html": [
              "<div>\n",
              "<style scoped>\n",
              "    .dataframe tbody tr th:only-of-type {\n",
              "        vertical-align: middle;\n",
              "    }\n",
              "\n",
              "    .dataframe tbody tr th {\n",
              "        vertical-align: top;\n",
              "    }\n",
              "\n",
              "    .dataframe thead th {\n",
              "        text-align: right;\n",
              "    }\n",
              "</style>\n",
              "<table border=\"1\" class=\"dataframe\">\n",
              "  <thead>\n",
              "    <tr style=\"text-align: right;\">\n",
              "      <th></th>\n",
              "      <th>Open</th>\n",
              "      <th>High</th>\n",
              "      <th>Low</th>\n",
              "      <th>Close</th>\n",
              "      <th>Adj Close</th>\n",
              "      <th>Volume</th>\n",
              "    </tr>\n",
              "    <tr>\n",
              "      <th>Date</th>\n",
              "      <th></th>\n",
              "      <th></th>\n",
              "      <th></th>\n",
              "      <th></th>\n",
              "      <th></th>\n",
              "      <th></th>\n",
              "    </tr>\n",
              "  </thead>\n",
              "  <tbody>\n",
              "    <tr>\n",
              "      <th>2019-12-30</th>\n",
              "      <td>85.758003</td>\n",
              "      <td>85.800003</td>\n",
              "      <td>81.851997</td>\n",
              "      <td>82.940002</td>\n",
              "      <td>82.940002</td>\n",
              "      <td>62932000</td>\n",
              "    </tr>\n",
              "    <tr>\n",
              "      <th>2019-12-31</th>\n",
              "      <td>81.000000</td>\n",
              "      <td>84.258003</td>\n",
              "      <td>80.416000</td>\n",
              "      <td>83.666000</td>\n",
              "      <td>83.666000</td>\n",
              "      <td>51428500</td>\n",
              "    </tr>\n",
              "    <tr>\n",
              "      <th>2020-01-02</th>\n",
              "      <td>84.900002</td>\n",
              "      <td>86.139999</td>\n",
              "      <td>84.342003</td>\n",
              "      <td>86.052002</td>\n",
              "      <td>86.052002</td>\n",
              "      <td>47660500</td>\n",
              "    </tr>\n",
              "    <tr>\n",
              "      <th>2020-01-03</th>\n",
              "      <td>88.099998</td>\n",
              "      <td>90.800003</td>\n",
              "      <td>87.384003</td>\n",
              "      <td>88.601997</td>\n",
              "      <td>88.601997</td>\n",
              "      <td>88892500</td>\n",
              "    </tr>\n",
              "    <tr>\n",
              "      <th>2020-01-06</th>\n",
              "      <td>88.094002</td>\n",
              "      <td>90.311996</td>\n",
              "      <td>88.000000</td>\n",
              "      <td>90.307999</td>\n",
              "      <td>90.307999</td>\n",
              "      <td>50665000</td>\n",
              "    </tr>\n",
              "    <tr>\n",
              "      <th>...</th>\n",
              "      <td>...</td>\n",
              "      <td>...</td>\n",
              "      <td>...</td>\n",
              "      <td>...</td>\n",
              "      <td>...</td>\n",
              "      <td>...</td>\n",
              "    </tr>\n",
              "    <tr>\n",
              "      <th>2020-12-21</th>\n",
              "      <td>666.239990</td>\n",
              "      <td>668.500000</td>\n",
              "      <td>646.070007</td>\n",
              "      <td>649.859985</td>\n",
              "      <td>649.859985</td>\n",
              "      <td>58045300</td>\n",
              "    </tr>\n",
              "    <tr>\n",
              "      <th>2020-12-22</th>\n",
              "      <td>648.000000</td>\n",
              "      <td>649.880005</td>\n",
              "      <td>614.229980</td>\n",
              "      <td>640.340027</td>\n",
              "      <td>640.340027</td>\n",
              "      <td>51716000</td>\n",
              "    </tr>\n",
              "    <tr>\n",
              "      <th>2020-12-23</th>\n",
              "      <td>632.200012</td>\n",
              "      <td>651.500000</td>\n",
              "      <td>622.570007</td>\n",
              "      <td>645.979980</td>\n",
              "      <td>645.979980</td>\n",
              "      <td>33173000</td>\n",
              "    </tr>\n",
              "    <tr>\n",
              "      <th>2020-12-24</th>\n",
              "      <td>642.989990</td>\n",
              "      <td>666.090027</td>\n",
              "      <td>641.000000</td>\n",
              "      <td>661.770020</td>\n",
              "      <td>661.770020</td>\n",
              "      <td>22865600</td>\n",
              "    </tr>\n",
              "    <tr>\n",
              "      <th>2020-12-28</th>\n",
              "      <td>674.510010</td>\n",
              "      <td>681.400024</td>\n",
              "      <td>660.799988</td>\n",
              "      <td>663.690002</td>\n",
              "      <td>663.690002</td>\n",
              "      <td>32133700</td>\n",
              "    </tr>\n",
              "  </tbody>\n",
              "</table>\n",
              "<p>252 rows × 6 columns</p>\n",
              "</div>"
            ],
            "text/plain": [
              "                  Open        High  ...   Adj Close    Volume\n",
              "Date                                ...                      \n",
              "2019-12-30   85.758003   85.800003  ...   82.940002  62932000\n",
              "2019-12-31   81.000000   84.258003  ...   83.666000  51428500\n",
              "2020-01-02   84.900002   86.139999  ...   86.052002  47660500\n",
              "2020-01-03   88.099998   90.800003  ...   88.601997  88892500\n",
              "2020-01-06   88.094002   90.311996  ...   90.307999  50665000\n",
              "...                ...         ...  ...         ...       ...\n",
              "2020-12-21  666.239990  668.500000  ...  649.859985  58045300\n",
              "2020-12-22  648.000000  649.880005  ...  640.340027  51716000\n",
              "2020-12-23  632.200012  651.500000  ...  645.979980  33173000\n",
              "2020-12-24  642.989990  666.090027  ...  661.770020  22865600\n",
              "2020-12-28  674.510010  681.400024  ...  663.690002  32133700\n",
              "\n",
              "[252 rows x 6 columns]"
            ]
          },
          "metadata": {
            "tags": []
          },
          "execution_count": 16
        }
      ]
    },
    {
      "cell_type": "code",
      "metadata": {
        "id": "9-zC8QbdAnjB"
      },
      "source": [
        "# Alternative method for colab if drive mounting doesn't work\n",
        "from google.colab import files\n",
        "import io\n",
        "uploaded = files.upload()\n",
        "df = pd.read_csv(io.BytesIO(uploaded['TSLA.csv']),\n",
        "                index_col=0,       # Tell Pandas that the first column should be used as an index\n",
        "                parse_dates=[0]    # Tell Pandas to parse the column at index 0 as dates\n",
        "                )"
      ],
      "execution_count": null,
      "outputs": []
    },
    {
      "cell_type": "code",
      "metadata": {
        "id": "dFrLENu6mDqu"
      },
      "source": [
        "# Alternatively if you are running this from Jupyter, make sure that the Notebook and the CSV file are in the same folder and run this code chunk instead.\n",
        "df = pd.read_csv('TSLA.csv',\n",
        "                index_col=0,       # Tell Pandas that the first column should be used as an index\n",
        "                parse_dates=[0]    # Tell Pandas to parse the column at index 0 as dates\n",
        "                )\n",
        "df"
      ],
      "execution_count": null,
      "outputs": []
    },
    {
      "cell_type": "markdown",
      "metadata": {
        "id": "laietFYdThjZ"
      },
      "source": [
        "## 2C DataFrame operations"
      ]
    },
    {
      "cell_type": "markdown",
      "metadata": {
        "id": "pVXCzAj8olaz"
      },
      "source": [
        "### Summary functions"
      ]
    },
    {
      "cell_type": "code",
      "metadata": {
        "id": "5Fzf38r9orcW",
        "colab": {
          "base_uri": "https://localhost:8080/"
        },
        "outputId": "4be789c7-1183-44f0-ad75-44e3f63e11fb"
      },
      "source": [
        "# We can use these functions to get a big picture understanding of the DataFrame\n",
        "print(df.describe())\n",
        "print(df.head())\n",
        "print(df.tail())\n",
        "print(df.columns)"
      ],
      "execution_count": null,
      "outputs": [
        {
          "output_type": "stream",
          "text": [
            "             Open        High         Low       Close   Adj Close        Volume\n",
            "count  252.000000  252.000000  252.000000  252.000000  252.000000  2.520000e+02\n",
            "mean   282.850001  290.868278  274.461770  283.608825  283.608825  6.197150e+07\n",
            "std    163.444025  167.394647  158.870645  164.524614  164.524614  4.614484e+07\n",
            "min     74.940002   80.972000   70.101997   72.244003   72.244003  6.362400e+06\n",
            "25%    146.432495  153.788498  141.835998  149.229503  149.229503  2.339915e+07\n",
            "50%    202.462998  211.516998  199.819999  210.486000  210.486000  5.395600e+07\n",
            "75%    419.924995  428.570000  408.379997  420.367501  420.367501  8.655038e+07\n",
            "max    674.510010  695.000000  660.799988  695.000000  695.000000  3.046940e+08\n",
            "                 Open       High        Low      Close  Adj Close    Volume\n",
            "Date                                                                       \n",
            "2019-12-30  85.758003  85.800003  81.851997  82.940002  82.940002  62932000\n",
            "2019-12-31  81.000000  84.258003  80.416000  83.666000  83.666000  51428500\n",
            "2020-01-02  84.900002  86.139999  84.342003  86.052002  86.052002  47660500\n",
            "2020-01-03  88.099998  90.800003  87.384003  88.601997  88.601997  88892500\n",
            "2020-01-06  88.094002  90.311996  88.000000  90.307999  90.307999  50665000\n",
            "                  Open        High  ...   Adj Close    Volume\n",
            "Date                                ...                      \n",
            "2020-12-21  666.239990  668.500000  ...  649.859985  58045300\n",
            "2020-12-22  648.000000  649.880005  ...  640.340027  51716000\n",
            "2020-12-23  632.200012  651.500000  ...  645.979980  33173000\n",
            "2020-12-24  642.989990  666.090027  ...  661.770020  22865600\n",
            "2020-12-28  674.510010  681.400024  ...  663.690002  32133700\n",
            "\n",
            "[5 rows x 6 columns]\n",
            "Index(['Open', 'High', 'Low', 'Close', 'Adj Close', 'Volume'], dtype='object')\n"
          ],
          "name": "stdout"
        }
      ]
    },
    {
      "cell_type": "markdown",
      "metadata": {
        "id": "Cb7eEPlnognz"
      },
      "source": [
        "### Indexing and selecting"
      ]
    },
    {
      "cell_type": "code",
      "metadata": {
        "id": "5M9M72PrTnGp",
        "colab": {
          "base_uri": "https://localhost:8080/"
        },
        "outputId": "761f2886-0547-4da6-c6c0-298bb8e40f58"
      },
      "source": [
        "# We can use Python's native accessors to find specific data, say a column\n",
        "print(df['Low'])\n",
        "\n",
        "# Equivalently as each column is also an attribute of the DataFrame, we can also do:\n",
        "print(df.Low)"
      ],
      "execution_count": null,
      "outputs": [
        {
          "output_type": "stream",
          "text": [
            "Date\n",
            "2019-12-30     81.851997\n",
            "2019-12-31     80.416000\n",
            "2020-01-02     84.342003\n",
            "2020-01-03     87.384003\n",
            "2020-01-06     88.000000\n",
            "                 ...    \n",
            "2020-12-21    646.070007\n",
            "2020-12-22    614.229980\n",
            "2020-12-23    622.570007\n",
            "2020-12-24    641.000000\n",
            "2020-12-28    660.799988\n",
            "Name: Low, Length: 252, dtype: float64\n",
            "Date\n",
            "2019-12-30     81.851997\n",
            "2019-12-31     80.416000\n",
            "2020-01-02     84.342003\n",
            "2020-01-03     87.384003\n",
            "2020-01-06     88.000000\n",
            "                 ...    \n",
            "2020-12-21    646.070007\n",
            "2020-12-22    614.229980\n",
            "2020-12-23    622.570007\n",
            "2020-12-24    641.000000\n",
            "2020-12-28    660.799988\n",
            "Name: Low, Length: 252, dtype: float64\n"
          ],
          "name": "stdout"
        }
      ]
    },
    {
      "cell_type": "code",
      "metadata": {
        "id": "ge51VJBip-8l",
        "colab": {
          "base_uri": "https://localhost:8080/"
        },
        "outputId": "b2765d8b-b02c-494f-e520-21d696809648"
      },
      "source": [
        "# You can also get a specific row within a column\n",
        "df['Low']['2020-11-12']"
      ],
      "execution_count": null,
      "outputs": [
        {
          "output_type": "execute_result",
          "data": {
            "text/plain": [
              "409.519989"
            ]
          },
          "metadata": {
            "tags": []
          },
          "execution_count": 19
        }
      ]
    },
    {
      "cell_type": "code",
      "metadata": {
        "id": "LHvfhg-88aBg",
        "colab": {
          "base_uri": "https://localhost:8080/",
          "height": 535
        },
        "outputId": "60f2c5bb-c048-4bcf-b47a-ab254f7d4932"
      },
      "source": [
        "# You can also use a conditional as a selection criteria to filter data\n",
        "df[df.Close > 600]"
      ],
      "execution_count": null,
      "outputs": [
        {
          "output_type": "execute_result",
          "data": {
            "text/html": [
              "<div>\n",
              "<style scoped>\n",
              "    .dataframe tbody tr th:only-of-type {\n",
              "        vertical-align: middle;\n",
              "    }\n",
              "\n",
              "    .dataframe tbody tr th {\n",
              "        vertical-align: top;\n",
              "    }\n",
              "\n",
              "    .dataframe thead th {\n",
              "        text-align: right;\n",
              "    }\n",
              "</style>\n",
              "<table border=\"1\" class=\"dataframe\">\n",
              "  <thead>\n",
              "    <tr style=\"text-align: right;\">\n",
              "      <th></th>\n",
              "      <th>Open</th>\n",
              "      <th>High</th>\n",
              "      <th>Low</th>\n",
              "      <th>Close</th>\n",
              "      <th>Adj Close</th>\n",
              "      <th>Volume</th>\n",
              "    </tr>\n",
              "    <tr>\n",
              "      <th>Date</th>\n",
              "      <th></th>\n",
              "      <th></th>\n",
              "      <th></th>\n",
              "      <th></th>\n",
              "      <th></th>\n",
              "      <th></th>\n",
              "    </tr>\n",
              "  </thead>\n",
              "  <tbody>\n",
              "    <tr>\n",
              "      <th>2020-12-07</th>\n",
              "      <td>604.919983</td>\n",
              "      <td>648.789978</td>\n",
              "      <td>603.049988</td>\n",
              "      <td>641.760010</td>\n",
              "      <td>641.760010</td>\n",
              "      <td>56309700</td>\n",
              "    </tr>\n",
              "    <tr>\n",
              "      <th>2020-12-08</th>\n",
              "      <td>625.510010</td>\n",
              "      <td>651.280029</td>\n",
              "      <td>618.500000</td>\n",
              "      <td>649.880005</td>\n",
              "      <td>649.880005</td>\n",
              "      <td>64265000</td>\n",
              "    </tr>\n",
              "    <tr>\n",
              "      <th>2020-12-09</th>\n",
              "      <td>653.690002</td>\n",
              "      <td>654.320007</td>\n",
              "      <td>588.000000</td>\n",
              "      <td>604.479980</td>\n",
              "      <td>604.479980</td>\n",
              "      <td>71291200</td>\n",
              "    </tr>\n",
              "    <tr>\n",
              "      <th>2020-12-10</th>\n",
              "      <td>574.369995</td>\n",
              "      <td>627.750000</td>\n",
              "      <td>566.340027</td>\n",
              "      <td>627.070007</td>\n",
              "      <td>627.070007</td>\n",
              "      <td>67083200</td>\n",
              "    </tr>\n",
              "    <tr>\n",
              "      <th>2020-12-11</th>\n",
              "      <td>615.010010</td>\n",
              "      <td>624.000000</td>\n",
              "      <td>596.799988</td>\n",
              "      <td>609.989990</td>\n",
              "      <td>609.989990</td>\n",
              "      <td>46475000</td>\n",
              "    </tr>\n",
              "    <tr>\n",
              "      <th>2020-12-14</th>\n",
              "      <td>619.000000</td>\n",
              "      <td>642.750000</td>\n",
              "      <td>610.200012</td>\n",
              "      <td>639.830017</td>\n",
              "      <td>639.830017</td>\n",
              "      <td>52040600</td>\n",
              "    </tr>\n",
              "    <tr>\n",
              "      <th>2020-12-15</th>\n",
              "      <td>643.280029</td>\n",
              "      <td>646.900024</td>\n",
              "      <td>623.799988</td>\n",
              "      <td>633.250000</td>\n",
              "      <td>633.250000</td>\n",
              "      <td>45223600</td>\n",
              "    </tr>\n",
              "    <tr>\n",
              "      <th>2020-12-16</th>\n",
              "      <td>628.229980</td>\n",
              "      <td>632.500000</td>\n",
              "      <td>605.000000</td>\n",
              "      <td>622.770020</td>\n",
              "      <td>622.770020</td>\n",
              "      <td>42095800</td>\n",
              "    </tr>\n",
              "    <tr>\n",
              "      <th>2020-12-17</th>\n",
              "      <td>628.190002</td>\n",
              "      <td>658.820007</td>\n",
              "      <td>619.500000</td>\n",
              "      <td>655.900024</td>\n",
              "      <td>655.900024</td>\n",
              "      <td>56270100</td>\n",
              "    </tr>\n",
              "    <tr>\n",
              "      <th>2020-12-18</th>\n",
              "      <td>668.900024</td>\n",
              "      <td>695.000000</td>\n",
              "      <td>628.539978</td>\n",
              "      <td>695.000000</td>\n",
              "      <td>695.000000</td>\n",
              "      <td>222126200</td>\n",
              "    </tr>\n",
              "    <tr>\n",
              "      <th>2020-12-21</th>\n",
              "      <td>666.239990</td>\n",
              "      <td>668.500000</td>\n",
              "      <td>646.070007</td>\n",
              "      <td>649.859985</td>\n",
              "      <td>649.859985</td>\n",
              "      <td>58045300</td>\n",
              "    </tr>\n",
              "    <tr>\n",
              "      <th>2020-12-22</th>\n",
              "      <td>648.000000</td>\n",
              "      <td>649.880005</td>\n",
              "      <td>614.229980</td>\n",
              "      <td>640.340027</td>\n",
              "      <td>640.340027</td>\n",
              "      <td>51716000</td>\n",
              "    </tr>\n",
              "    <tr>\n",
              "      <th>2020-12-23</th>\n",
              "      <td>632.200012</td>\n",
              "      <td>651.500000</td>\n",
              "      <td>622.570007</td>\n",
              "      <td>645.979980</td>\n",
              "      <td>645.979980</td>\n",
              "      <td>33173000</td>\n",
              "    </tr>\n",
              "    <tr>\n",
              "      <th>2020-12-24</th>\n",
              "      <td>642.989990</td>\n",
              "      <td>666.090027</td>\n",
              "      <td>641.000000</td>\n",
              "      <td>661.770020</td>\n",
              "      <td>661.770020</td>\n",
              "      <td>22865600</td>\n",
              "    </tr>\n",
              "    <tr>\n",
              "      <th>2020-12-28</th>\n",
              "      <td>674.510010</td>\n",
              "      <td>681.400024</td>\n",
              "      <td>660.799988</td>\n",
              "      <td>663.690002</td>\n",
              "      <td>663.690002</td>\n",
              "      <td>32133700</td>\n",
              "    </tr>\n",
              "  </tbody>\n",
              "</table>\n",
              "</div>"
            ],
            "text/plain": [
              "                  Open        High  ...   Adj Close     Volume\n",
              "Date                                ...                       \n",
              "2020-12-07  604.919983  648.789978  ...  641.760010   56309700\n",
              "2020-12-08  625.510010  651.280029  ...  649.880005   64265000\n",
              "2020-12-09  653.690002  654.320007  ...  604.479980   71291200\n",
              "2020-12-10  574.369995  627.750000  ...  627.070007   67083200\n",
              "2020-12-11  615.010010  624.000000  ...  609.989990   46475000\n",
              "2020-12-14  619.000000  642.750000  ...  639.830017   52040600\n",
              "2020-12-15  643.280029  646.900024  ...  633.250000   45223600\n",
              "2020-12-16  628.229980  632.500000  ...  622.770020   42095800\n",
              "2020-12-17  628.190002  658.820007  ...  655.900024   56270100\n",
              "2020-12-18  668.900024  695.000000  ...  695.000000  222126200\n",
              "2020-12-21  666.239990  668.500000  ...  649.859985   58045300\n",
              "2020-12-22  648.000000  649.880005  ...  640.340027   51716000\n",
              "2020-12-23  632.200012  651.500000  ...  645.979980   33173000\n",
              "2020-12-24  642.989990  666.090027  ...  661.770020   22865600\n",
              "2020-12-28  674.510010  681.400024  ...  663.690002   32133700\n",
              "\n",
              "[15 rows x 6 columns]"
            ]
          },
          "metadata": {
            "tags": []
          },
          "execution_count": 20
        }
      ]
    },
    {
      "cell_type": "code",
      "metadata": {
        "id": "hl6HBlsi8lz_",
        "colab": {
          "base_uri": "https://localhost:8080/"
        },
        "outputId": "1e5bc4cf-8d77-40b6-b50e-8f89380d34b6"
      },
      "source": [
        "# Behind the scenes, the conditional creates a Boolean Series which is applied to the df for selection\n",
        "df.Close > 600"
      ],
      "execution_count": null,
      "outputs": [
        {
          "output_type": "execute_result",
          "data": {
            "text/plain": [
              "Date\n",
              "2019-12-30    False\n",
              "2019-12-31    False\n",
              "2020-01-02    False\n",
              "2020-01-03    False\n",
              "2020-01-06    False\n",
              "              ...  \n",
              "2020-12-21     True\n",
              "2020-12-22     True\n",
              "2020-12-23     True\n",
              "2020-12-24     True\n",
              "2020-12-28     True\n",
              "Name: Close, Length: 252, dtype: bool"
            ]
          },
          "metadata": {
            "tags": []
          },
          "execution_count": 21
        }
      ]
    },
    {
      "cell_type": "markdown",
      "metadata": {
        "id": "7p_DkpOhsb_x"
      },
      "source": [
        "For more advanced indexing operations we can also use pandas' own accessor functions, `iloc` and `loc`. Both ways use a row-first, column-second system.\n",
        "\n",
        "The first way is the index-based selection paradigm, using the `iloc` function. Some examples are given below."
      ]
    },
    {
      "cell_type": "code",
      "metadata": {
        "id": "mFLayH-1r41i",
        "colab": {
          "base_uri": "https://localhost:8080/"
        },
        "outputId": "255d2f6e-0aee-4646-8a0f-7595f32537a6"
      },
      "source": [
        "# Access the first day's stock information\n",
        "df.iloc[0]"
      ],
      "execution_count": null,
      "outputs": [
        {
          "output_type": "execute_result",
          "data": {
            "text/plain": [
              "Open         8.575800e+01\n",
              "High         8.580000e+01\n",
              "Low          8.185200e+01\n",
              "Close        8.294000e+01\n",
              "Adj Close    8.294000e+01\n",
              "Volume       6.293200e+07\n",
              "Name: 2019-12-30 00:00:00, dtype: float64"
            ]
          },
          "metadata": {
            "tags": []
          },
          "execution_count": 23
        }
      ]
    },
    {
      "cell_type": "code",
      "metadata": {
        "id": "DPah6ZpMtaac",
        "colab": {
          "base_uri": "https://localhost:8080/"
        },
        "outputId": "c45fceba-0965-4455-9580-f8fbf73e7f38"
      },
      "source": [
        "# Access the entirety of the first column ('Open')\n",
        "df.iloc[:, 0]"
      ],
      "execution_count": null,
      "outputs": [
        {
          "output_type": "execute_result",
          "data": {
            "text/plain": [
              "Date\n",
              "2019-12-30     85.758003\n",
              "2019-12-31     81.000000\n",
              "2020-01-02     84.900002\n",
              "2020-01-03     88.099998\n",
              "2020-01-06     88.094002\n",
              "                 ...    \n",
              "2020-12-21    666.239990\n",
              "2020-12-22    648.000000\n",
              "2020-12-23    632.200012\n",
              "2020-12-24    642.989990\n",
              "2020-12-28    674.510010\n",
              "Name: Open, Length: 252, dtype: float64"
            ]
          },
          "metadata": {
            "tags": []
          },
          "execution_count": 24
        }
      ]
    },
    {
      "cell_type": "code",
      "metadata": {
        "id": "Kz5M4r9ktjW4",
        "colab": {
          "base_uri": "https://localhost:8080/"
        },
        "outputId": "9297dfb6-5c80-435c-ef5d-8b3359fb3de0"
      },
      "source": [
        "# Access the first 10 days of the second column ('High')\n",
        "df.iloc[:10, 1]"
      ],
      "execution_count": null,
      "outputs": [
        {
          "output_type": "execute_result",
          "data": {
            "text/plain": [
              "Date\n",
              "2019-12-30     85.800003\n",
              "2019-12-31     84.258003\n",
              "2020-01-02     86.139999\n",
              "2020-01-03     90.800003\n",
              "2020-01-06     90.311996\n",
              "2020-01-07     94.325996\n",
              "2020-01-08     99.697998\n",
              "2020-01-09     99.760002\n",
              "2020-01-10     96.987999\n",
              "2020-01-13    105.125999\n",
              "Name: High, dtype: float64"
            ]
          },
          "metadata": {
            "tags": []
          },
          "execution_count": 25
        }
      ]
    },
    {
      "cell_type": "code",
      "metadata": {
        "id": "gBpc_sj_ttnZ",
        "colab": {
          "base_uri": "https://localhost:8080/"
        },
        "outputId": "d8863080-23be-49bc-cd24-963ed02e283d"
      },
      "source": [
        "# Access some selected days of the last column ('Volume')\n",
        "df.iloc[[5, 10, 15], -1]"
      ],
      "execution_count": null,
      "outputs": [
        {
          "output_type": "execute_result",
          "data": {
            "text/plain": [
              "Date\n",
              "2020-01-07     89410500\n",
              "2020-01-14    144981000\n",
              "2020-01-22    156845000\n",
              "Name: Volume, dtype: int64"
            ]
          },
          "metadata": {
            "tags": []
          },
          "execution_count": 26
        }
      ]
    },
    {
      "cell_type": "markdown",
      "metadata": {
        "id": "gwIXUJauslO8"
      },
      "source": [
        "Another way is through using the label-based selection paradigm, using the `loc` function. Some examples are given below."
      ]
    },
    {
      "cell_type": "code",
      "metadata": {
        "id": "a-ZAcC5jse6c",
        "colab": {
          "base_uri": "https://localhost:8080/"
        },
        "outputId": "f3aba219-741c-4a1a-ca9a-b2504df23708"
      },
      "source": [
        "# Access a specific entry\n",
        "df.loc['2020-12-10', 'High']"
      ],
      "execution_count": null,
      "outputs": [
        {
          "output_type": "execute_result",
          "data": {
            "text/plain": [
              "627.75"
            ]
          },
          "metadata": {
            "tags": []
          },
          "execution_count": 27
        }
      ]
    },
    {
      "cell_type": "code",
      "metadata": {
        "id": "3WsY4hkXuLVQ",
        "colab": {
          "base_uri": "https://localhost:8080/",
          "height": 657
        },
        "outputId": "d1ac39b2-7969-4b62-a51c-259dddff6053"
      },
      "source": [
        "# Access specific columns and rows\n",
        "df.loc['2020-12-01':, ['Open', 'Close']]"
      ],
      "execution_count": null,
      "outputs": [
        {
          "output_type": "execute_result",
          "data": {
            "text/html": [
              "<div>\n",
              "<style scoped>\n",
              "    .dataframe tbody tr th:only-of-type {\n",
              "        vertical-align: middle;\n",
              "    }\n",
              "\n",
              "    .dataframe tbody tr th {\n",
              "        vertical-align: top;\n",
              "    }\n",
              "\n",
              "    .dataframe thead th {\n",
              "        text-align: right;\n",
              "    }\n",
              "</style>\n",
              "<table border=\"1\" class=\"dataframe\">\n",
              "  <thead>\n",
              "    <tr style=\"text-align: right;\">\n",
              "      <th></th>\n",
              "      <th>Open</th>\n",
              "      <th>Close</th>\n",
              "    </tr>\n",
              "    <tr>\n",
              "      <th>Date</th>\n",
              "      <th></th>\n",
              "      <th></th>\n",
              "    </tr>\n",
              "  </thead>\n",
              "  <tbody>\n",
              "    <tr>\n",
              "      <th>2020-12-01</th>\n",
              "      <td>597.590027</td>\n",
              "      <td>584.760010</td>\n",
              "    </tr>\n",
              "    <tr>\n",
              "      <th>2020-12-02</th>\n",
              "      <td>556.440002</td>\n",
              "      <td>568.820007</td>\n",
              "    </tr>\n",
              "    <tr>\n",
              "      <th>2020-12-03</th>\n",
              "      <td>590.020020</td>\n",
              "      <td>593.380005</td>\n",
              "    </tr>\n",
              "    <tr>\n",
              "      <th>2020-12-04</th>\n",
              "      <td>591.010010</td>\n",
              "      <td>599.039978</td>\n",
              "    </tr>\n",
              "    <tr>\n",
              "      <th>2020-12-07</th>\n",
              "      <td>604.919983</td>\n",
              "      <td>641.760010</td>\n",
              "    </tr>\n",
              "    <tr>\n",
              "      <th>2020-12-08</th>\n",
              "      <td>625.510010</td>\n",
              "      <td>649.880005</td>\n",
              "    </tr>\n",
              "    <tr>\n",
              "      <th>2020-12-09</th>\n",
              "      <td>653.690002</td>\n",
              "      <td>604.479980</td>\n",
              "    </tr>\n",
              "    <tr>\n",
              "      <th>2020-12-10</th>\n",
              "      <td>574.369995</td>\n",
              "      <td>627.070007</td>\n",
              "    </tr>\n",
              "    <tr>\n",
              "      <th>2020-12-11</th>\n",
              "      <td>615.010010</td>\n",
              "      <td>609.989990</td>\n",
              "    </tr>\n",
              "    <tr>\n",
              "      <th>2020-12-14</th>\n",
              "      <td>619.000000</td>\n",
              "      <td>639.830017</td>\n",
              "    </tr>\n",
              "    <tr>\n",
              "      <th>2020-12-15</th>\n",
              "      <td>643.280029</td>\n",
              "      <td>633.250000</td>\n",
              "    </tr>\n",
              "    <tr>\n",
              "      <th>2020-12-16</th>\n",
              "      <td>628.229980</td>\n",
              "      <td>622.770020</td>\n",
              "    </tr>\n",
              "    <tr>\n",
              "      <th>2020-12-17</th>\n",
              "      <td>628.190002</td>\n",
              "      <td>655.900024</td>\n",
              "    </tr>\n",
              "    <tr>\n",
              "      <th>2020-12-18</th>\n",
              "      <td>668.900024</td>\n",
              "      <td>695.000000</td>\n",
              "    </tr>\n",
              "    <tr>\n",
              "      <th>2020-12-21</th>\n",
              "      <td>666.239990</td>\n",
              "      <td>649.859985</td>\n",
              "    </tr>\n",
              "    <tr>\n",
              "      <th>2020-12-22</th>\n",
              "      <td>648.000000</td>\n",
              "      <td>640.340027</td>\n",
              "    </tr>\n",
              "    <tr>\n",
              "      <th>2020-12-23</th>\n",
              "      <td>632.200012</td>\n",
              "      <td>645.979980</td>\n",
              "    </tr>\n",
              "    <tr>\n",
              "      <th>2020-12-24</th>\n",
              "      <td>642.989990</td>\n",
              "      <td>661.770020</td>\n",
              "    </tr>\n",
              "    <tr>\n",
              "      <th>2020-12-28</th>\n",
              "      <td>674.510010</td>\n",
              "      <td>663.690002</td>\n",
              "    </tr>\n",
              "  </tbody>\n",
              "</table>\n",
              "</div>"
            ],
            "text/plain": [
              "                  Open       Close\n",
              "Date                              \n",
              "2020-12-01  597.590027  584.760010\n",
              "2020-12-02  556.440002  568.820007\n",
              "2020-12-03  590.020020  593.380005\n",
              "2020-12-04  591.010010  599.039978\n",
              "2020-12-07  604.919983  641.760010\n",
              "2020-12-08  625.510010  649.880005\n",
              "2020-12-09  653.690002  604.479980\n",
              "2020-12-10  574.369995  627.070007\n",
              "2020-12-11  615.010010  609.989990\n",
              "2020-12-14  619.000000  639.830017\n",
              "2020-12-15  643.280029  633.250000\n",
              "2020-12-16  628.229980  622.770020\n",
              "2020-12-17  628.190002  655.900024\n",
              "2020-12-18  668.900024  695.000000\n",
              "2020-12-21  666.239990  649.859985\n",
              "2020-12-22  648.000000  640.340027\n",
              "2020-12-23  632.200012  645.979980\n",
              "2020-12-24  642.989990  661.770020\n",
              "2020-12-28  674.510010  663.690002"
            ]
          },
          "metadata": {
            "tags": []
          },
          "execution_count": 28
        }
      ]
    },
    {
      "cell_type": "markdown",
      "metadata": {
        "id": "L0xR3W3vqChF"
      },
      "source": [
        "### Creating subselections as new DataFrames\n",
        "\n",
        "For the next part of the course we will be doing basic data cleaning and visualization on our 1 year TSLA stock data."
      ]
    },
    {
      "cell_type": "code",
      "metadata": {
        "id": "TVXcXqOTqTIK",
        "colab": {
          "base_uri": "https://localhost:8080/",
          "height": 442
        },
        "outputId": "dc8b97dd-4a92-4fa5-b51c-5ff2935e6a81"
      },
      "source": [
        "# Let's say we only want to analyze data from 2020 onwards. We can truncate the 2019 entries of the dataframe:\n",
        "df_2020 = df['2020-01-02':]\n",
        "df_2020"
      ],
      "execution_count": null,
      "outputs": [
        {
          "output_type": "execute_result",
          "data": {
            "text/html": [
              "<div>\n",
              "<style scoped>\n",
              "    .dataframe tbody tr th:only-of-type {\n",
              "        vertical-align: middle;\n",
              "    }\n",
              "\n",
              "    .dataframe tbody tr th {\n",
              "        vertical-align: top;\n",
              "    }\n",
              "\n",
              "    .dataframe thead th {\n",
              "        text-align: right;\n",
              "    }\n",
              "</style>\n",
              "<table border=\"1\" class=\"dataframe\">\n",
              "  <thead>\n",
              "    <tr style=\"text-align: right;\">\n",
              "      <th></th>\n",
              "      <th>Open</th>\n",
              "      <th>High</th>\n",
              "      <th>Low</th>\n",
              "      <th>Close</th>\n",
              "      <th>Adj Close</th>\n",
              "      <th>Volume</th>\n",
              "    </tr>\n",
              "    <tr>\n",
              "      <th>Date</th>\n",
              "      <th></th>\n",
              "      <th></th>\n",
              "      <th></th>\n",
              "      <th></th>\n",
              "      <th></th>\n",
              "      <th></th>\n",
              "    </tr>\n",
              "  </thead>\n",
              "  <tbody>\n",
              "    <tr>\n",
              "      <th>2020-01-02</th>\n",
              "      <td>84.900002</td>\n",
              "      <td>86.139999</td>\n",
              "      <td>84.342003</td>\n",
              "      <td>86.052002</td>\n",
              "      <td>86.052002</td>\n",
              "      <td>47660500</td>\n",
              "    </tr>\n",
              "    <tr>\n",
              "      <th>2020-01-03</th>\n",
              "      <td>88.099998</td>\n",
              "      <td>90.800003</td>\n",
              "      <td>87.384003</td>\n",
              "      <td>88.601997</td>\n",
              "      <td>88.601997</td>\n",
              "      <td>88892500</td>\n",
              "    </tr>\n",
              "    <tr>\n",
              "      <th>2020-01-06</th>\n",
              "      <td>88.094002</td>\n",
              "      <td>90.311996</td>\n",
              "      <td>88.000000</td>\n",
              "      <td>90.307999</td>\n",
              "      <td>90.307999</td>\n",
              "      <td>50665000</td>\n",
              "    </tr>\n",
              "    <tr>\n",
              "      <th>2020-01-07</th>\n",
              "      <td>92.279999</td>\n",
              "      <td>94.325996</td>\n",
              "      <td>90.671997</td>\n",
              "      <td>93.811996</td>\n",
              "      <td>93.811996</td>\n",
              "      <td>89410500</td>\n",
              "    </tr>\n",
              "    <tr>\n",
              "      <th>2020-01-08</th>\n",
              "      <td>94.739998</td>\n",
              "      <td>99.697998</td>\n",
              "      <td>93.646004</td>\n",
              "      <td>98.428001</td>\n",
              "      <td>98.428001</td>\n",
              "      <td>155721500</td>\n",
              "    </tr>\n",
              "    <tr>\n",
              "      <th>...</th>\n",
              "      <td>...</td>\n",
              "      <td>...</td>\n",
              "      <td>...</td>\n",
              "      <td>...</td>\n",
              "      <td>...</td>\n",
              "      <td>...</td>\n",
              "    </tr>\n",
              "    <tr>\n",
              "      <th>2020-12-21</th>\n",
              "      <td>666.239990</td>\n",
              "      <td>668.500000</td>\n",
              "      <td>646.070007</td>\n",
              "      <td>649.859985</td>\n",
              "      <td>649.859985</td>\n",
              "      <td>58045300</td>\n",
              "    </tr>\n",
              "    <tr>\n",
              "      <th>2020-12-22</th>\n",
              "      <td>648.000000</td>\n",
              "      <td>649.880005</td>\n",
              "      <td>614.229980</td>\n",
              "      <td>640.340027</td>\n",
              "      <td>640.340027</td>\n",
              "      <td>51716000</td>\n",
              "    </tr>\n",
              "    <tr>\n",
              "      <th>2020-12-23</th>\n",
              "      <td>632.200012</td>\n",
              "      <td>651.500000</td>\n",
              "      <td>622.570007</td>\n",
              "      <td>645.979980</td>\n",
              "      <td>645.979980</td>\n",
              "      <td>33173000</td>\n",
              "    </tr>\n",
              "    <tr>\n",
              "      <th>2020-12-24</th>\n",
              "      <td>642.989990</td>\n",
              "      <td>666.090027</td>\n",
              "      <td>641.000000</td>\n",
              "      <td>661.770020</td>\n",
              "      <td>661.770020</td>\n",
              "      <td>22865600</td>\n",
              "    </tr>\n",
              "    <tr>\n",
              "      <th>2020-12-28</th>\n",
              "      <td>674.510010</td>\n",
              "      <td>681.400024</td>\n",
              "      <td>660.799988</td>\n",
              "      <td>663.690002</td>\n",
              "      <td>663.690002</td>\n",
              "      <td>32133700</td>\n",
              "    </tr>\n",
              "  </tbody>\n",
              "</table>\n",
              "<p>250 rows × 6 columns</p>\n",
              "</div>"
            ],
            "text/plain": [
              "                  Open        High  ...   Adj Close     Volume\n",
              "Date                                ...                       \n",
              "2020-01-02   84.900002   86.139999  ...   86.052002   47660500\n",
              "2020-01-03   88.099998   90.800003  ...   88.601997   88892500\n",
              "2020-01-06   88.094002   90.311996  ...   90.307999   50665000\n",
              "2020-01-07   92.279999   94.325996  ...   93.811996   89410500\n",
              "2020-01-08   94.739998   99.697998  ...   98.428001  155721500\n",
              "...                ...         ...  ...         ...        ...\n",
              "2020-12-21  666.239990  668.500000  ...  649.859985   58045300\n",
              "2020-12-22  648.000000  649.880005  ...  640.340027   51716000\n",
              "2020-12-23  632.200012  651.500000  ...  645.979980   33173000\n",
              "2020-12-24  642.989990  666.090027  ...  661.770020   22865600\n",
              "2020-12-28  674.510010  681.400024  ...  663.690002   32133700\n",
              "\n",
              "[250 rows x 6 columns]"
            ]
          },
          "metadata": {
            "tags": []
          },
          "execution_count": 29
        }
      ]
    },
    {
      "cell_type": "code",
      "metadata": {
        "id": "LSpfn69H-AMQ",
        "colab": {
          "base_uri": "https://localhost:8080/",
          "height": 442
        },
        "outputId": "d728f4ca-0541-439c-88bd-0b38e00a19a0"
      },
      "source": [
        "# We note that the 'Adj Close' and 'Close' columns for TSLA are the same within this specified time period.\n",
        "# Let's drop the 'Adj Close' column\n",
        "df_2020_new = df_2020.drop(columns=['Adj Close'])\n",
        "df_2020_new"
      ],
      "execution_count": null,
      "outputs": [
        {
          "output_type": "execute_result",
          "data": {
            "text/html": [
              "<div>\n",
              "<style scoped>\n",
              "    .dataframe tbody tr th:only-of-type {\n",
              "        vertical-align: middle;\n",
              "    }\n",
              "\n",
              "    .dataframe tbody tr th {\n",
              "        vertical-align: top;\n",
              "    }\n",
              "\n",
              "    .dataframe thead th {\n",
              "        text-align: right;\n",
              "    }\n",
              "</style>\n",
              "<table border=\"1\" class=\"dataframe\">\n",
              "  <thead>\n",
              "    <tr style=\"text-align: right;\">\n",
              "      <th></th>\n",
              "      <th>Open</th>\n",
              "      <th>High</th>\n",
              "      <th>Low</th>\n",
              "      <th>Close</th>\n",
              "      <th>Volume</th>\n",
              "    </tr>\n",
              "    <tr>\n",
              "      <th>Date</th>\n",
              "      <th></th>\n",
              "      <th></th>\n",
              "      <th></th>\n",
              "      <th></th>\n",
              "      <th></th>\n",
              "    </tr>\n",
              "  </thead>\n",
              "  <tbody>\n",
              "    <tr>\n",
              "      <th>2020-01-02</th>\n",
              "      <td>84.900002</td>\n",
              "      <td>86.139999</td>\n",
              "      <td>84.342003</td>\n",
              "      <td>86.052002</td>\n",
              "      <td>47660500</td>\n",
              "    </tr>\n",
              "    <tr>\n",
              "      <th>2020-01-03</th>\n",
              "      <td>88.099998</td>\n",
              "      <td>90.800003</td>\n",
              "      <td>87.384003</td>\n",
              "      <td>88.601997</td>\n",
              "      <td>88892500</td>\n",
              "    </tr>\n",
              "    <tr>\n",
              "      <th>2020-01-06</th>\n",
              "      <td>88.094002</td>\n",
              "      <td>90.311996</td>\n",
              "      <td>88.000000</td>\n",
              "      <td>90.307999</td>\n",
              "      <td>50665000</td>\n",
              "    </tr>\n",
              "    <tr>\n",
              "      <th>2020-01-07</th>\n",
              "      <td>92.279999</td>\n",
              "      <td>94.325996</td>\n",
              "      <td>90.671997</td>\n",
              "      <td>93.811996</td>\n",
              "      <td>89410500</td>\n",
              "    </tr>\n",
              "    <tr>\n",
              "      <th>2020-01-08</th>\n",
              "      <td>94.739998</td>\n",
              "      <td>99.697998</td>\n",
              "      <td>93.646004</td>\n",
              "      <td>98.428001</td>\n",
              "      <td>155721500</td>\n",
              "    </tr>\n",
              "    <tr>\n",
              "      <th>...</th>\n",
              "      <td>...</td>\n",
              "      <td>...</td>\n",
              "      <td>...</td>\n",
              "      <td>...</td>\n",
              "      <td>...</td>\n",
              "    </tr>\n",
              "    <tr>\n",
              "      <th>2020-12-21</th>\n",
              "      <td>666.239990</td>\n",
              "      <td>668.500000</td>\n",
              "      <td>646.070007</td>\n",
              "      <td>649.859985</td>\n",
              "      <td>58045300</td>\n",
              "    </tr>\n",
              "    <tr>\n",
              "      <th>2020-12-22</th>\n",
              "      <td>648.000000</td>\n",
              "      <td>649.880005</td>\n",
              "      <td>614.229980</td>\n",
              "      <td>640.340027</td>\n",
              "      <td>51716000</td>\n",
              "    </tr>\n",
              "    <tr>\n",
              "      <th>2020-12-23</th>\n",
              "      <td>632.200012</td>\n",
              "      <td>651.500000</td>\n",
              "      <td>622.570007</td>\n",
              "      <td>645.979980</td>\n",
              "      <td>33173000</td>\n",
              "    </tr>\n",
              "    <tr>\n",
              "      <th>2020-12-24</th>\n",
              "      <td>642.989990</td>\n",
              "      <td>666.090027</td>\n",
              "      <td>641.000000</td>\n",
              "      <td>661.770020</td>\n",
              "      <td>22865600</td>\n",
              "    </tr>\n",
              "    <tr>\n",
              "      <th>2020-12-28</th>\n",
              "      <td>674.510010</td>\n",
              "      <td>681.400024</td>\n",
              "      <td>660.799988</td>\n",
              "      <td>663.690002</td>\n",
              "      <td>32133700</td>\n",
              "    </tr>\n",
              "  </tbody>\n",
              "</table>\n",
              "<p>250 rows × 5 columns</p>\n",
              "</div>"
            ],
            "text/plain": [
              "                  Open        High         Low       Close     Volume\n",
              "Date                                                                 \n",
              "2020-01-02   84.900002   86.139999   84.342003   86.052002   47660500\n",
              "2020-01-03   88.099998   90.800003   87.384003   88.601997   88892500\n",
              "2020-01-06   88.094002   90.311996   88.000000   90.307999   50665000\n",
              "2020-01-07   92.279999   94.325996   90.671997   93.811996   89410500\n",
              "2020-01-08   94.739998   99.697998   93.646004   98.428001  155721500\n",
              "...                ...         ...         ...         ...        ...\n",
              "2020-12-21  666.239990  668.500000  646.070007  649.859985   58045300\n",
              "2020-12-22  648.000000  649.880005  614.229980  640.340027   51716000\n",
              "2020-12-23  632.200012  651.500000  622.570007  645.979980   33173000\n",
              "2020-12-24  642.989990  666.090027  641.000000  661.770020   22865600\n",
              "2020-12-28  674.510010  681.400024  660.799988  663.690002   32133700\n",
              "\n",
              "[250 rows x 5 columns]"
            ]
          },
          "metadata": {
            "tags": []
          },
          "execution_count": 30
        }
      ]
    },
    {
      "cell_type": "code",
      "metadata": {
        "id": "9QEj21RnDtlR",
        "colab": {
          "base_uri": "https://localhost:8080/",
          "height": 442
        },
        "outputId": "e7cb5f73-c30b-4402-968f-df10b29119cb"
      },
      "source": [
        "# Suppose we want to analyze only the daily closing price and trading volume\n",
        "df_2020_close_volume = df_2020_new[['Close', 'Volume']]\n",
        "df_2020_close_volume"
      ],
      "execution_count": null,
      "outputs": [
        {
          "output_type": "execute_result",
          "data": {
            "text/html": [
              "<div>\n",
              "<style scoped>\n",
              "    .dataframe tbody tr th:only-of-type {\n",
              "        vertical-align: middle;\n",
              "    }\n",
              "\n",
              "    .dataframe tbody tr th {\n",
              "        vertical-align: top;\n",
              "    }\n",
              "\n",
              "    .dataframe thead th {\n",
              "        text-align: right;\n",
              "    }\n",
              "</style>\n",
              "<table border=\"1\" class=\"dataframe\">\n",
              "  <thead>\n",
              "    <tr style=\"text-align: right;\">\n",
              "      <th></th>\n",
              "      <th>Close</th>\n",
              "      <th>Volume</th>\n",
              "    </tr>\n",
              "    <tr>\n",
              "      <th>Date</th>\n",
              "      <th></th>\n",
              "      <th></th>\n",
              "    </tr>\n",
              "  </thead>\n",
              "  <tbody>\n",
              "    <tr>\n",
              "      <th>2020-01-02</th>\n",
              "      <td>86.052002</td>\n",
              "      <td>47660500</td>\n",
              "    </tr>\n",
              "    <tr>\n",
              "      <th>2020-01-03</th>\n",
              "      <td>88.601997</td>\n",
              "      <td>88892500</td>\n",
              "    </tr>\n",
              "    <tr>\n",
              "      <th>2020-01-06</th>\n",
              "      <td>90.307999</td>\n",
              "      <td>50665000</td>\n",
              "    </tr>\n",
              "    <tr>\n",
              "      <th>2020-01-07</th>\n",
              "      <td>93.811996</td>\n",
              "      <td>89410500</td>\n",
              "    </tr>\n",
              "    <tr>\n",
              "      <th>2020-01-08</th>\n",
              "      <td>98.428001</td>\n",
              "      <td>155721500</td>\n",
              "    </tr>\n",
              "    <tr>\n",
              "      <th>...</th>\n",
              "      <td>...</td>\n",
              "      <td>...</td>\n",
              "    </tr>\n",
              "    <tr>\n",
              "      <th>2020-12-21</th>\n",
              "      <td>649.859985</td>\n",
              "      <td>58045300</td>\n",
              "    </tr>\n",
              "    <tr>\n",
              "      <th>2020-12-22</th>\n",
              "      <td>640.340027</td>\n",
              "      <td>51716000</td>\n",
              "    </tr>\n",
              "    <tr>\n",
              "      <th>2020-12-23</th>\n",
              "      <td>645.979980</td>\n",
              "      <td>33173000</td>\n",
              "    </tr>\n",
              "    <tr>\n",
              "      <th>2020-12-24</th>\n",
              "      <td>661.770020</td>\n",
              "      <td>22865600</td>\n",
              "    </tr>\n",
              "    <tr>\n",
              "      <th>2020-12-28</th>\n",
              "      <td>663.690002</td>\n",
              "      <td>32133700</td>\n",
              "    </tr>\n",
              "  </tbody>\n",
              "</table>\n",
              "<p>250 rows × 2 columns</p>\n",
              "</div>"
            ],
            "text/plain": [
              "                 Close     Volume\n",
              "Date                             \n",
              "2020-01-02   86.052002   47660500\n",
              "2020-01-03   88.601997   88892500\n",
              "2020-01-06   90.307999   50665000\n",
              "2020-01-07   93.811996   89410500\n",
              "2020-01-08   98.428001  155721500\n",
              "...                ...        ...\n",
              "2020-12-21  649.859985   58045300\n",
              "2020-12-22  640.340027   51716000\n",
              "2020-12-23  645.979980   33173000\n",
              "2020-12-24  661.770020   22865600\n",
              "2020-12-28  663.690002   32133700\n",
              "\n",
              "[250 rows x 2 columns]"
            ]
          },
          "metadata": {
            "tags": []
          },
          "execution_count": 31
        }
      ]
    },
    {
      "cell_type": "markdown",
      "metadata": {
        "id": "qWNol3e1qSoP"
      },
      "source": [
        "### Editing and adding data"
      ]
    },
    {
      "cell_type": "code",
      "metadata": {
        "id": "GA4BlCmUqYrk",
        "colab": {
          "base_uri": "https://localhost:8080/",
          "height": 442
        },
        "outputId": "be7a56aa-5faf-42cd-ec1a-bb6aa2bc91f7"
      },
      "source": [
        "# Creating a new column based on old columns (e.g., take sum)\n",
        "# Suppose we want to investigate the daily High-Low range of TSLA\n",
        "df_2020_new['Range'] = df_2020_new['High'] - df_2020_new['Low']\n",
        "df_2020_new"
      ],
      "execution_count": null,
      "outputs": [
        {
          "output_type": "execute_result",
          "data": {
            "text/html": [
              "<div>\n",
              "<style scoped>\n",
              "    .dataframe tbody tr th:only-of-type {\n",
              "        vertical-align: middle;\n",
              "    }\n",
              "\n",
              "    .dataframe tbody tr th {\n",
              "        vertical-align: top;\n",
              "    }\n",
              "\n",
              "    .dataframe thead th {\n",
              "        text-align: right;\n",
              "    }\n",
              "</style>\n",
              "<table border=\"1\" class=\"dataframe\">\n",
              "  <thead>\n",
              "    <tr style=\"text-align: right;\">\n",
              "      <th></th>\n",
              "      <th>Open</th>\n",
              "      <th>High</th>\n",
              "      <th>Low</th>\n",
              "      <th>Close</th>\n",
              "      <th>Volume</th>\n",
              "      <th>Range</th>\n",
              "    </tr>\n",
              "    <tr>\n",
              "      <th>Date</th>\n",
              "      <th></th>\n",
              "      <th></th>\n",
              "      <th></th>\n",
              "      <th></th>\n",
              "      <th></th>\n",
              "      <th></th>\n",
              "    </tr>\n",
              "  </thead>\n",
              "  <tbody>\n",
              "    <tr>\n",
              "      <th>2020-01-02</th>\n",
              "      <td>84.900002</td>\n",
              "      <td>86.139999</td>\n",
              "      <td>84.342003</td>\n",
              "      <td>86.052002</td>\n",
              "      <td>47660500</td>\n",
              "      <td>1.797996</td>\n",
              "    </tr>\n",
              "    <tr>\n",
              "      <th>2020-01-03</th>\n",
              "      <td>88.099998</td>\n",
              "      <td>90.800003</td>\n",
              "      <td>87.384003</td>\n",
              "      <td>88.601997</td>\n",
              "      <td>88892500</td>\n",
              "      <td>3.416000</td>\n",
              "    </tr>\n",
              "    <tr>\n",
              "      <th>2020-01-06</th>\n",
              "      <td>88.094002</td>\n",
              "      <td>90.311996</td>\n",
              "      <td>88.000000</td>\n",
              "      <td>90.307999</td>\n",
              "      <td>50665000</td>\n",
              "      <td>2.311996</td>\n",
              "    </tr>\n",
              "    <tr>\n",
              "      <th>2020-01-07</th>\n",
              "      <td>92.279999</td>\n",
              "      <td>94.325996</td>\n",
              "      <td>90.671997</td>\n",
              "      <td>93.811996</td>\n",
              "      <td>89410500</td>\n",
              "      <td>3.653999</td>\n",
              "    </tr>\n",
              "    <tr>\n",
              "      <th>2020-01-08</th>\n",
              "      <td>94.739998</td>\n",
              "      <td>99.697998</td>\n",
              "      <td>93.646004</td>\n",
              "      <td>98.428001</td>\n",
              "      <td>155721500</td>\n",
              "      <td>6.051994</td>\n",
              "    </tr>\n",
              "    <tr>\n",
              "      <th>...</th>\n",
              "      <td>...</td>\n",
              "      <td>...</td>\n",
              "      <td>...</td>\n",
              "      <td>...</td>\n",
              "      <td>...</td>\n",
              "      <td>...</td>\n",
              "    </tr>\n",
              "    <tr>\n",
              "      <th>2020-12-21</th>\n",
              "      <td>666.239990</td>\n",
              "      <td>668.500000</td>\n",
              "      <td>646.070007</td>\n",
              "      <td>649.859985</td>\n",
              "      <td>58045300</td>\n",
              "      <td>22.429993</td>\n",
              "    </tr>\n",
              "    <tr>\n",
              "      <th>2020-12-22</th>\n",
              "      <td>648.000000</td>\n",
              "      <td>649.880005</td>\n",
              "      <td>614.229980</td>\n",
              "      <td>640.340027</td>\n",
              "      <td>51716000</td>\n",
              "      <td>35.650025</td>\n",
              "    </tr>\n",
              "    <tr>\n",
              "      <th>2020-12-23</th>\n",
              "      <td>632.200012</td>\n",
              "      <td>651.500000</td>\n",
              "      <td>622.570007</td>\n",
              "      <td>645.979980</td>\n",
              "      <td>33173000</td>\n",
              "      <td>28.929993</td>\n",
              "    </tr>\n",
              "    <tr>\n",
              "      <th>2020-12-24</th>\n",
              "      <td>642.989990</td>\n",
              "      <td>666.090027</td>\n",
              "      <td>641.000000</td>\n",
              "      <td>661.770020</td>\n",
              "      <td>22865600</td>\n",
              "      <td>25.090027</td>\n",
              "    </tr>\n",
              "    <tr>\n",
              "      <th>2020-12-28</th>\n",
              "      <td>674.510010</td>\n",
              "      <td>681.400024</td>\n",
              "      <td>660.799988</td>\n",
              "      <td>663.690002</td>\n",
              "      <td>32133700</td>\n",
              "      <td>20.600036</td>\n",
              "    </tr>\n",
              "  </tbody>\n",
              "</table>\n",
              "<p>250 rows × 6 columns</p>\n",
              "</div>"
            ],
            "text/plain": [
              "                  Open        High  ...     Volume      Range\n",
              "Date                                ...                      \n",
              "2020-01-02   84.900002   86.139999  ...   47660500   1.797996\n",
              "2020-01-03   88.099998   90.800003  ...   88892500   3.416000\n",
              "2020-01-06   88.094002   90.311996  ...   50665000   2.311996\n",
              "2020-01-07   92.279999   94.325996  ...   89410500   3.653999\n",
              "2020-01-08   94.739998   99.697998  ...  155721500   6.051994\n",
              "...                ...         ...  ...        ...        ...\n",
              "2020-12-21  666.239990  668.500000  ...   58045300  22.429993\n",
              "2020-12-22  648.000000  649.880005  ...   51716000  35.650025\n",
              "2020-12-23  632.200012  651.500000  ...   33173000  28.929993\n",
              "2020-12-24  642.989990  666.090027  ...   22865600  25.090027\n",
              "2020-12-28  674.510010  681.400024  ...   32133700  20.600036\n",
              "\n",
              "[250 rows x 6 columns]"
            ]
          },
          "metadata": {
            "tags": []
          },
          "execution_count": 32
        }
      ]
    },
    {
      "cell_type": "code",
      "metadata": {
        "id": "3_rU6UOKFiwr"
      },
      "source": [
        "# Exercise: Compute moving average of the closing price\n",
        "# ---INPUT ATTEMPT BELOW---\n",
        "temp_array = [np.nan] * 4\n",
        "for i in range(5, len(df_2020_new) + 1):\n",
        "  average = df_2020_new['Close'][i-5:i].mean()\n",
        "  temp_array.append(average)\n",
        "df_2020_new['5MA'] = temp_array"
      ],
      "execution_count": null,
      "outputs": []
    },
    {
      "cell_type": "code",
      "metadata": {
        "id": "LHyXpIofGEPg",
        "colab": {
          "base_uri": "https://localhost:8080/",
          "height": 627
        },
        "outputId": "c1b45665-c974-4e3f-a39e-2f299d861739"
      },
      "source": [
        "# Let's add a few more\n",
        "df_2020_new['10MA'] = df_2020_new.Close.rolling(window=10).mean()\n",
        "df_2020_new['30MA'] = df_2020_new.Close.rolling(window=30).mean()\n",
        "df_2020_new['60MA'] = df_2020_new.Close.rolling(window=60).mean()\n",
        "df_2020_new['120MA'] = df_2020_new.Close.rolling(window=120).mean()\n",
        "df_2020_new"
      ],
      "execution_count": null,
      "outputs": [
        {
          "output_type": "execute_result",
          "data": {
            "text/html": [
              "<div>\n",
              "<style scoped>\n",
              "    .dataframe tbody tr th:only-of-type {\n",
              "        vertical-align: middle;\n",
              "    }\n",
              "\n",
              "    .dataframe tbody tr th {\n",
              "        vertical-align: top;\n",
              "    }\n",
              "\n",
              "    .dataframe thead th {\n",
              "        text-align: right;\n",
              "    }\n",
              "</style>\n",
              "<table border=\"1\" class=\"dataframe\">\n",
              "  <thead>\n",
              "    <tr style=\"text-align: right;\">\n",
              "      <th></th>\n",
              "      <th>Open</th>\n",
              "      <th>High</th>\n",
              "      <th>Low</th>\n",
              "      <th>Close</th>\n",
              "      <th>Volume</th>\n",
              "      <th>Range</th>\n",
              "      <th>5MA</th>\n",
              "      <th>10MA</th>\n",
              "      <th>30MA</th>\n",
              "      <th>60MA</th>\n",
              "      <th>120MA</th>\n",
              "    </tr>\n",
              "    <tr>\n",
              "      <th>Date</th>\n",
              "      <th></th>\n",
              "      <th></th>\n",
              "      <th></th>\n",
              "      <th></th>\n",
              "      <th></th>\n",
              "      <th></th>\n",
              "      <th></th>\n",
              "      <th></th>\n",
              "      <th></th>\n",
              "      <th></th>\n",
              "      <th></th>\n",
              "    </tr>\n",
              "  </thead>\n",
              "  <tbody>\n",
              "    <tr>\n",
              "      <th>2020-01-02</th>\n",
              "      <td>84.900002</td>\n",
              "      <td>86.139999</td>\n",
              "      <td>84.342003</td>\n",
              "      <td>86.052002</td>\n",
              "      <td>47660500</td>\n",
              "      <td>1.797996</td>\n",
              "      <td>NaN</td>\n",
              "      <td>NaN</td>\n",
              "      <td>NaN</td>\n",
              "      <td>NaN</td>\n",
              "      <td>NaN</td>\n",
              "    </tr>\n",
              "    <tr>\n",
              "      <th>2020-01-03</th>\n",
              "      <td>88.099998</td>\n",
              "      <td>90.800003</td>\n",
              "      <td>87.384003</td>\n",
              "      <td>88.601997</td>\n",
              "      <td>88892500</td>\n",
              "      <td>3.416000</td>\n",
              "      <td>NaN</td>\n",
              "      <td>NaN</td>\n",
              "      <td>NaN</td>\n",
              "      <td>NaN</td>\n",
              "      <td>NaN</td>\n",
              "    </tr>\n",
              "    <tr>\n",
              "      <th>2020-01-06</th>\n",
              "      <td>88.094002</td>\n",
              "      <td>90.311996</td>\n",
              "      <td>88.000000</td>\n",
              "      <td>90.307999</td>\n",
              "      <td>50665000</td>\n",
              "      <td>2.311996</td>\n",
              "      <td>NaN</td>\n",
              "      <td>NaN</td>\n",
              "      <td>NaN</td>\n",
              "      <td>NaN</td>\n",
              "      <td>NaN</td>\n",
              "    </tr>\n",
              "    <tr>\n",
              "      <th>2020-01-07</th>\n",
              "      <td>92.279999</td>\n",
              "      <td>94.325996</td>\n",
              "      <td>90.671997</td>\n",
              "      <td>93.811996</td>\n",
              "      <td>89410500</td>\n",
              "      <td>3.653999</td>\n",
              "      <td>NaN</td>\n",
              "      <td>NaN</td>\n",
              "      <td>NaN</td>\n",
              "      <td>NaN</td>\n",
              "      <td>NaN</td>\n",
              "    </tr>\n",
              "    <tr>\n",
              "      <th>2020-01-08</th>\n",
              "      <td>94.739998</td>\n",
              "      <td>99.697998</td>\n",
              "      <td>93.646004</td>\n",
              "      <td>98.428001</td>\n",
              "      <td>155721500</td>\n",
              "      <td>6.051994</td>\n",
              "      <td>91.440399</td>\n",
              "      <td>NaN</td>\n",
              "      <td>NaN</td>\n",
              "      <td>NaN</td>\n",
              "      <td>NaN</td>\n",
              "    </tr>\n",
              "    <tr>\n",
              "      <th>...</th>\n",
              "      <td>...</td>\n",
              "      <td>...</td>\n",
              "      <td>...</td>\n",
              "      <td>...</td>\n",
              "      <td>...</td>\n",
              "      <td>...</td>\n",
              "      <td>...</td>\n",
              "      <td>...</td>\n",
              "      <td>...</td>\n",
              "      <td>...</td>\n",
              "      <td>...</td>\n",
              "    </tr>\n",
              "    <tr>\n",
              "      <th>2020-12-21</th>\n",
              "      <td>666.239990</td>\n",
              "      <td>668.500000</td>\n",
              "      <td>646.070007</td>\n",
              "      <td>649.859985</td>\n",
              "      <td>58045300</td>\n",
              "      <td>22.429993</td>\n",
              "      <td>651.356006</td>\n",
              "      <td>638.803003</td>\n",
              "      <td>552.486999</td>\n",
              "      <td>489.265500</td>\n",
              "      <td>421.099982</td>\n",
              "    </tr>\n",
              "    <tr>\n",
              "      <th>2020-12-22</th>\n",
              "      <td>648.000000</td>\n",
              "      <td>649.880005</td>\n",
              "      <td>614.229980</td>\n",
              "      <td>640.340027</td>\n",
              "      <td>51716000</td>\n",
              "      <td>35.650025</td>\n",
              "      <td>652.774011</td>\n",
              "      <td>637.849005</td>\n",
              "      <td>559.789667</td>\n",
              "      <td>492.917834</td>\n",
              "      <td>424.421716</td>\n",
              "    </tr>\n",
              "    <tr>\n",
              "      <th>2020-12-23</th>\n",
              "      <td>632.200012</td>\n",
              "      <td>651.500000</td>\n",
              "      <td>622.570007</td>\n",
              "      <td>645.979980</td>\n",
              "      <td>33173000</td>\n",
              "      <td>28.929993</td>\n",
              "      <td>657.416003</td>\n",
              "      <td>641.999005</td>\n",
              "      <td>567.643667</td>\n",
              "      <td>496.699667</td>\n",
              "      <td>427.518916</td>\n",
              "    </tr>\n",
              "    <tr>\n",
              "      <th>2020-12-24</th>\n",
              "      <td>642.989990</td>\n",
              "      <td>666.090027</td>\n",
              "      <td>641.000000</td>\n",
              "      <td>661.770020</td>\n",
              "      <td>22865600</td>\n",
              "      <td>25.090027</td>\n",
              "      <td>658.590002</td>\n",
              "      <td>645.469006</td>\n",
              "      <td>575.798334</td>\n",
              "      <td>500.579000</td>\n",
              "      <td>430.717233</td>\n",
              "    </tr>\n",
              "    <tr>\n",
              "      <th>2020-12-28</th>\n",
              "      <td>674.510010</td>\n",
              "      <td>681.400024</td>\n",
              "      <td>660.799988</td>\n",
              "      <td>663.690002</td>\n",
              "      <td>32133700</td>\n",
              "      <td>20.600036</td>\n",
              "      <td>652.328003</td>\n",
              "      <td>650.839007</td>\n",
              "      <td>584.196000</td>\n",
              "      <td>504.171167</td>\n",
              "      <td>433.971516</td>\n",
              "    </tr>\n",
              "  </tbody>\n",
              "</table>\n",
              "<p>250 rows × 11 columns</p>\n",
              "</div>"
            ],
            "text/plain": [
              "                  Open        High  ...        60MA       120MA\n",
              "Date                                ...                        \n",
              "2020-01-02   84.900002   86.139999  ...         NaN         NaN\n",
              "2020-01-03   88.099998   90.800003  ...         NaN         NaN\n",
              "2020-01-06   88.094002   90.311996  ...         NaN         NaN\n",
              "2020-01-07   92.279999   94.325996  ...         NaN         NaN\n",
              "2020-01-08   94.739998   99.697998  ...         NaN         NaN\n",
              "...                ...         ...  ...         ...         ...\n",
              "2020-12-21  666.239990  668.500000  ...  489.265500  421.099982\n",
              "2020-12-22  648.000000  649.880005  ...  492.917834  424.421716\n",
              "2020-12-23  632.200012  651.500000  ...  496.699667  427.518916\n",
              "2020-12-24  642.989990  666.090027  ...  500.579000  430.717233\n",
              "2020-12-28  674.510010  681.400024  ...  504.171167  433.971516\n",
              "\n",
              "[250 rows x 11 columns]"
            ]
          },
          "metadata": {
            "tags": []
          },
          "execution_count": 35
        }
      ]
    },
    {
      "cell_type": "markdown",
      "metadata": {
        "id": "wVzPkkHMls1W"
      },
      "source": [
        "## 2D Exporting csv files"
      ]
    },
    {
      "cell_type": "code",
      "metadata": {
        "id": "sumAq7sKlu3T"
      },
      "source": [
        "# With the moving average indicator, let's export our data to a new csv file\n",
        "df_2020_new.to_csv('/content/drive/My Drive/MC/TSLA_MA.csv')"
      ],
      "execution_count": null,
      "outputs": []
    },
    {
      "cell_type": "code",
      "metadata": {
        "id": "BUZ4Thr1BTGd",
        "colab": {
          "base_uri": "https://localhost:8080/",
          "height": 32
        },
        "outputId": "6cdb20a5-201f-4cbe-db3a-233fa676e1b3"
      },
      "source": [
        "# Alternatively we can download the file directly\n",
        "from google.colab import files\n",
        "df_2020_new.to_csv('TSLA_MA.csv')\n",
        "files.download('TSLA_MA.csv')"
      ],
      "execution_count": null,
      "outputs": [
        {
          "output_type": "display_data",
          "data": {
            "application/javascript": [
              "\n",
              "    async function download(id, filename, size) {\n",
              "      if (!google.colab.kernel.accessAllowed) {\n",
              "        return;\n",
              "      }\n",
              "      const div = document.createElement('div');\n",
              "      const label = document.createElement('label');\n",
              "      label.textContent = `Downloading \"${filename}\": `;\n",
              "      div.appendChild(label);\n",
              "      const progress = document.createElement('progress');\n",
              "      progress.max = size;\n",
              "      div.appendChild(progress);\n",
              "      document.body.appendChild(div);\n",
              "\n",
              "      const buffers = [];\n",
              "      let downloaded = 0;\n",
              "\n",
              "      const channel = await google.colab.kernel.comms.open(id);\n",
              "      // Send a message to notify the kernel that we're ready.\n",
              "      channel.send({})\n",
              "\n",
              "      for await (const message of channel.messages) {\n",
              "        // Send a message to notify the kernel that we're ready.\n",
              "        channel.send({})\n",
              "        if (message.buffers) {\n",
              "          for (const buffer of message.buffers) {\n",
              "            buffers.push(buffer);\n",
              "            downloaded += buffer.byteLength;\n",
              "            progress.value = downloaded;\n",
              "          }\n",
              "        }\n",
              "      }\n",
              "      const blob = new Blob(buffers, {type: 'application/binary'});\n",
              "      const a = document.createElement('a');\n",
              "      a.href = window.URL.createObjectURL(blob);\n",
              "      a.download = filename;\n",
              "      div.appendChild(a);\n",
              "      a.click();\n",
              "      div.remove();\n",
              "    }\n",
              "  "
            ],
            "text/plain": [
              "<IPython.core.display.Javascript object>"
            ]
          },
          "metadata": {
            "tags": []
          }
        },
        {
          "output_type": "display_data",
          "data": {
            "application/javascript": [
              "download(\"download_9712d842-8840-49d4-ad5a-4f81d4c9b215\", \"TSLA_MA.csv\", 38892)"
            ],
            "text/plain": [
              "<IPython.core.display.Javascript object>"
            ]
          },
          "metadata": {
            "tags": []
          }
        }
      ]
    },
    {
      "cell_type": "code",
      "metadata": {
        "id": "5ef4pncYLC9O"
      },
      "source": [
        "# For Jupyter:\n",
        "df_2020_new.to_csv('TSLA_MA.csv')"
      ],
      "execution_count": null,
      "outputs": []
    },
    {
      "cell_type": "markdown",
      "metadata": {
        "id": "YcQQOvXALfPg"
      },
      "source": [
        "# 3 Introduction to Matplotlib\n",
        "\n",
        "Matplotlib is a package used for plotting graphs. Most of the useful operations under Matplotlib are housed under its pyplot submodule hence it is often imported as `import matplotlib.pyplot as plt`. It is often used with NumPy (and Pandas too) to turn array data into graphical visualizations.\n",
        "\n",
        "Documentation: https://matplotlib.org/3.3.3/contents.html"
      ]
    },
    {
      "cell_type": "markdown",
      "metadata": {
        "id": "KNfZ0uVWS3IQ"
      },
      "source": [
        "## 3A Basic plotting and display parameters"
      ]
    },
    {
      "cell_type": "code",
      "metadata": {
        "id": "feUHl0vnTIIb",
        "colab": {
          "base_uri": "https://localhost:8080/",
          "height": 280
        },
        "outputId": "739ef52b-31b7-438d-fef5-43a9ac322bc9"
      },
      "source": [
        "# Single plot of TSLA closing price in the Y axis and time in the X axis\n",
        "plt.plot(df_2020_new.index, df_2020_new['Close'])"
      ],
      "execution_count": null,
      "outputs": [
        {
          "output_type": "execute_result",
          "data": {
            "text/plain": [
              "[<matplotlib.lines.Line2D at 0x7fb3f9f955c0>]"
            ]
          },
          "metadata": {
            "tags": []
          },
          "execution_count": 39
        },
        {
          "output_type": "display_data",
          "data": {
            "image/png": "[encoded data removed]",
            "text/plain": [
              "<Figure size 432x288 with 1 Axes>"
            ]
          },
          "metadata": {
            "tags": [],
            "needs_background": "light"
          }
        }
      ]
    },
    {
      "cell_type": "code",
      "metadata": {
        "id": "GydWbKR0LWBa",
        "colab": {
          "base_uri": "https://localhost:8080/",
          "height": 402
        },
        "outputId": "2423b893-7142-4696-dfeb-5e3ae27090d7"
      },
      "source": [
        "# We can tweak the display parameters, other factors to make the plot easier to read and understand\n",
        "plt.figure(figsize=(10, 10 / 1.6))\n",
        "plt.title(\"TSLA Daily Closing Price in 2020\")\n",
        "plt.plot(df_2020_new.index, df_2020_new['Close'])\n",
        "plt.show()"
      ],
      "execution_count": null,
      "outputs": [
        {
          "output_type": "display_data",
          "data": {
            "image/png": "[encoded data removed]",
            "text/plain": [
              "<Figure size 720x450 with 1 Axes>"
            ]
          },
          "metadata": {
            "tags": [],
            "needs_background": "light"
          }
        }
      ]
    },
    {
      "cell_type": "markdown",
      "metadata": {
        "id": "AU4WUUbfTIea"
      },
      "source": [
        "## 3B Histograms and Scatterplots\n",
        "Aside from basic line graphs we can also plot histograms and scatterplots, among a variety of different types of graphs."
      ]
    },
    {
      "cell_type": "code",
      "metadata": {
        "id": "NlUAnJB0TNWk",
        "colab": {
          "base_uri": "https://localhost:8080/",
          "height": 400
        },
        "outputId": "5a7100c0-b196-42c0-d282-3b8ae78b3788"
      },
      "source": [
        "# Histogram of volume\n",
        "plt.figure(figsize=(10, 10 / 1.6))\n",
        "plt.hist(df_2020_new['Volume'], bins=30)\n",
        "plt.show()"
      ],
      "execution_count": null,
      "outputs": [
        {
          "output_type": "display_data",
          "data": {
            "image/png": "[encoded data removed]",
            "text/plain": [
              "<Figure size 720x450 with 1 Axes>"
            ]
          },
          "metadata": {
            "tags": [],
            "needs_background": "light"
          }
        }
      ]
    },
    {
      "cell_type": "code",
      "metadata": {
        "id": "cJWzLIvtL1h4",
        "colab": {
          "base_uri": "https://localhost:8080/",
          "height": 291
        },
        "outputId": "1c198ad7-9fbe-4e82-bf37-34c04e092ca3"
      },
      "source": [
        "# Sometimes we have to make some other modifications to help the chart be useful\n",
        "plt.xlim((np.datetime64('2020-12-01T00:00'), np.datetime64('2020-12-28T12:00')))\n",
        "plt.scatter(df_2020_new.index, df_2020_new['Volume'])"
      ],
      "execution_count": null,
      "outputs": [
        {
          "output_type": "execute_result",
          "data": {
            "text/plain": [
              "<matplotlib.collections.PathCollection at 0x7fb3f9834898>"
            ]
          },
          "metadata": {
            "tags": []
          },
          "execution_count": 42
        },
        {
          "output_type": "display_data",
          "data": {
            "image/png": "[encoded data removed]",
            "text/plain": [
              "<Figure size 432x288 with 1 Axes>"
            ]
          },
          "metadata": {
            "tags": [],
            "needs_background": "light"
          }
        }
      ]
    },
    {
      "cell_type": "markdown",
      "metadata": {
        "id": "vSGsVEOQTNw0"
      },
      "source": [
        "## 3C Overlaying multiple line graphs"
      ]
    },
    {
      "cell_type": "code",
      "metadata": {
        "id": "HT_9rzdJTRX9",
        "colab": {
          "base_uri": "https://localhost:8080/",
          "height": 280
        },
        "outputId": "872b2341-5eb2-4c34-f615-c2c2e52b2128"
      },
      "source": [
        "# Let's plot the open and close prices in the same graph\n",
        "plt.plot(df_2020_new.index, df_2020_new['Open'], df_2020_new['Close'])\n",
        "plt.legend(['Open', 'Close'])"
      ],
      "execution_count": null,
      "outputs": [
        {
          "output_type": "execute_result",
          "data": {
            "text/plain": [
              "<matplotlib.legend.Legend at 0x7fb3f97a3780>"
            ]
          },
          "metadata": {
            "tags": []
          },
          "execution_count": 43
        },
        {
          "output_type": "display_data",
          "data": {
            "image/png": "[encoded data removed]",
            "text/plain": [
              "<Figure size 432x288 with 1 Axes>"
            ]
          },
          "metadata": {
            "tags": [],
            "needs_background": "light"
          }
        }
      ]
    },
    {
      "cell_type": "code",
      "metadata": {
        "id": "iANhk-JtMrvG"
      },
      "source": [
        "# Exercise: Plot the closing price and all the MAs on the same graph\n",
        "# ---INPUT ATTEMPT BELOW---"
      ],
      "execution_count": null,
      "outputs": []
    }
  ]
}