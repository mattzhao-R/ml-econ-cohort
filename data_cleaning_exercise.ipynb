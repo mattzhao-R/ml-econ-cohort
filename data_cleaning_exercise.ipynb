{
 "cells": [
  {
   "cell_type": "code",
   "execution_count": 1,
   "id": "b89932d3-b58f-4974-9925-b682c158809d",
   "metadata": {},
   "outputs": [],
   "source": [
    "import pandas as pd\n",
    "import numpy as np\n",
    "import matplotlib.pyplot as plt"
   ]
  },
  {
   "cell_type": "markdown",
   "id": "b117e8c5-ff29-4c75-a3c7-c2c80238b0dd",
   "metadata": {},
   "source": [
    "# Data Cleaning Exercise\n",
    "\n",
    "In this exercise, you'll be practicing the art of data cleaning which in many ways is one of the most important parts of working with real data. Here, you're tasked with replicating a balance table from a development economics paper. There is no one way to do this, but some ways may be more efficient/easier to implement than others. \n",
    "\n",
    "You can find the table to replicate under Q2 of problem set 2."
   ]
  },
  {
   "cell_type": "code",
   "execution_count": 2,
   "id": "1ac00fd1-af51-4693-a2a9-26b9d2e8baca",
   "metadata": {},
   "outputs": [],
   "source": [
    "df = pd.read_stata('dataset_savings.dta')"
   ]
  },
  {
   "cell_type": "code",
   "execution_count": 5,
   "id": "f4b9bf1f-66e4-49d5-84d2-0162fbd10b9f",
   "metadata": {},
   "outputs": [
    {
     "data": {
      "text/plain": [
       "Index(['id', 'wave1', 'wave2', 'wave3', 'treatment',\n",
       "       'not_traced_account_opening', 'inlogs', 'filled_log', 'bg_gender',\n",
       "       'bg_boda', 'bg_malevendor', 'bg_femalevendor', 'bg_married',\n",
       "       'bg_num_children', 'bg_age', 'bg_kis_read', 'bg_kis_write',\n",
       "       'bg_rosca_contrib_lyr', 'bg_educ', 'bg_rosca', 'bg_animalsvalue',\n",
       "       'bg_durvalue_hh', 'bg_totalinc_lastweek', 'bg_loan_bank',\n",
       "       'bg_loan_friend', 'bg_healthstatus', 'per_hard_save',\n",
       "       'per_invest_choice2', 'per_somewhat_patient', 'per_time_consistent',\n",
       "       'per_hyperbolic', 'per_pat_now_impat_later', 'per_maximpat',\n",
       "       'per_fwd_digit_score2', 'per_ravens_matrix', 'total_dep_savings',\n",
       "       'num_trans_savings', 'first6_num_trans_savings', 'num_dep_savings',\n",
       "       'first6_dep_savings', 'num_wd_savings', 'first6_wd_savings',\n",
       "       'mean_dep_b', 'median_dep_b', 'mean_wd_b', 'median_wd_b',\n",
       "       'total_dep_shares', 'first6_dep_shares', 'total_dep_loan',\n",
       "       'first6_dep_loan', 'total_wd_loan', 'first6_wd_loan', 'exp_total',\n",
       "       'exp_food', 'exp_tot_private', 'tot_flow_out', 'tot_flow_spouse',\n",
       "       'bank_savings', 'rosca_contrib', 'animal_savings', 'total_hours',\n",
       "       'investment', 'investment_t5', 'revenues', 'revenues_t5'],\n",
       "      dtype='object')"
      ]
     },
     "execution_count": 5,
     "metadata": {},
     "output_type": "execute_result"
    }
   ],
   "source": [
    "df.columns"
   ]
  },
  {
   "cell_type": "code",
   "execution_count": null,
   "id": "ac8646b8-ff79-467a-ac37-4074f238c9a2",
   "metadata": {},
   "outputs": [],
   "source": [
    "mutate(active = ifelse(first6_num_trans_savings > 1, TRUE, FALSE),\n",
    "         treatment_bg_boda = treatment*bg_boda,\n",
    "         active_bg_boda = active*bg_boda,\n",
    "         bg_boda_wave2 = (bg_boda & wave2),\n",
    "         bg_malevendor_wave2 = (bg_malevendor & wave2),\n",
    "         bg_malevendor_wave3 = (bg_malevendor & wave3),\n",
    "         treament_bg_malevendor = treatment*bg_malevendor,\n",
    "         active_bg_malevendor = active*bg_malevendor,\n",
    "         literate_swahili = ifelse((bg_kis_read == 1 & bg_kis_write ==1),\n",
    "                                   1,\n",
    "                                   NA),\n",
    "         literate_swahili = ifelse((bg_kis_read ==0 | bg_kis_write == 0), \n",
    "                                   0,\n",
    "                                   literate_swahili))"
   ]
  },
  {
   "cell_type": "code",
   "execution_count": 17,
   "id": "c4b13ecb-b864-4e2c-b7ab-19cedb4b60bf",
   "metadata": {},
   "outputs": [],
   "source": [
    "# preliminary code to get you started/add variables\n",
    "savings_df = df.copy()\n",
    "savings_df['active'] = np.where(savings_df['first6_num_trans_savings'] > 1,1,0)\n",
    "savings_df['literate_swahili'] = np.where((savings_df['bg_kis_read'].to_numpy() == 1) & \n",
    "                                           (savings_df['bg_kis_write'].to_numpy() == 1),\n",
    "                                          1,pd.NA)\n",
    "savings_df['literate_swahili'] = np.where((savings_df['bg_kis_read'].to_numpy() == 0) | \n",
    "                                           (savings_df['bg_kis_write'].to_numpy() == 0),\n",
    "                                          0,savings_df['literate_swahili'])"
   ]
  },
  {
   "cell_type": "code",
   "execution_count": 15,
   "id": "c089abc6-0e09-41c8-b8b7-7a02171b94cb",
   "metadata": {},
   "outputs": [
    {
     "data": {
      "text/plain": [
       "array([False,  True, False,  True, False,  True,  True,  True,  True,\n",
       "        True,  True,  True,  True,  True,  True,  True,  True,  True,\n",
       "        True, False,  True,  True, False,  True,  True,  True,  True,\n",
       "        True,  True,  True,  True,  True,  True,  True,  True,  True,\n",
       "        True,  True,  True,  True,  True,  True,  True, False,  True,\n",
       "        True,  True,  True,  True,  True,  True,  True, False, False,\n",
       "        True,  True,  True,  True,  True, False,  True,  True,  True,\n",
       "        True,  True,  True,  True, False,  True,  True,  True,  True,\n",
       "        True,  True,  True,  True, False,  True,  True,  True,  True,\n",
       "       False, False,  True,  True,  True,  True,  True,  True,  True,\n",
       "        True,  True,  True,  True,  True,  True,  True,  True,  True,\n",
       "        True,  True,  True,  True,  True, False,  True,  True,  True,\n",
       "        True,  True, False,  True,  True,  True,  True,  True,  True,\n",
       "        True,  True, False, False, False,  True, False, False,  True,\n",
       "        True, False,  True,  True,  True, False,  True,  True,  True,\n",
       "        True,  True,  True,  True,  True,  True, False, False, False,\n",
       "       False,  True, False,  True,  True,  True,  True,  True,  True,\n",
       "        True,  True,  True,  True,  True, False,  True,  True,  True,\n",
       "        True,  True,  True,  True, False,  True, False,  True,  True,\n",
       "        True,  True,  True,  True,  True, False,  True,  True,  True,\n",
       "       False,  True,  True, False, False,  True, False,  True,  True,\n",
       "        True, False,  True,  True,  True,  True, False,  True, False,\n",
       "        True,  True, False,  True, False,  True,  True,  True,  True,\n",
       "        True,  True,  True,  True,  True,  True,  True,  True,  True,\n",
       "        True,  True,  True,  True,  True,  True,  True,  True,  True,\n",
       "        True, False, False, False,  True,  True,  True,  True,  True,\n",
       "       False,  True,  True,  True, False,  True,  True, False,  True,\n",
       "        True, False,  True, False, False,  True, False,  True, False,\n",
       "       False,  True,  True, False, False, False,  True,  True,  True,\n",
       "        True, False, False,  True,  True,  True,  True,  True,  True,\n",
       "        True, False, False,  True, False,  True, False,  True, False,\n",
       "        True, False, False, False,  True,  True,  True, False, False,\n",
       "        True, False,  True, False,  True, False,  True, False, False,\n",
       "        True, False, False,  True, False,  True,  True, False,  True,\n",
       "        True,  True,  True,  True,  True, False, False, False,  True,\n",
       "       False,  True, False,  True,  True,  True,  True, False, False,\n",
       "       False,  True,  True,  True,  True, False, False, False,  True,\n",
       "       False, False, False, False,  True, False,  True,  True,  True,\n",
       "        True, False,  True,  True,  True,  True, False,  True, False,\n",
       "       False, False,  True,  True,  True, False, False,  True, False,\n",
       "        True, False,  True,  True,  True,  True,  True,  True,  True,\n",
       "       False, False,  True, False,  True,  True,  True,  True,  True,\n",
       "        True,  True, False,  True,  True, False,  True, False,  True,\n",
       "        True,  True,  True,  True,  True, False,  True,  True])"
      ]
     },
     "execution_count": 15,
     "metadata": {},
     "output_type": "execute_result"
    }
   ],
   "source": []
  },
  {
   "cell_type": "code",
   "execution_count": 8,
   "id": "5607b887-7273-462e-80de-79f9f90d5b21",
   "metadata": {},
   "outputs": [
    {
     "data": {
      "text/plain": [
       "0    0\n",
       "1    0\n",
       "2    0\n",
       "3    0\n",
       "4    0\n",
       "Name: active, dtype: int32"
      ]
     },
     "execution_count": 8,
     "metadata": {},
     "output_type": "execute_result"
    }
   ],
   "source": []
  },
  {
   "cell_type": "code",
   "execution_count": null,
   "id": "c7173b9a-9d3b-485d-a772-e6f81340e75a",
   "metadata": {},
   "outputs": [],
   "source": []
  }
 ],
 "metadata": {
  "kernelspec": {
   "display_name": "Python 3 (ipykernel)",
   "language": "python",
   "name": "python3"
  },
  "language_info": {
   "codemirror_mode": {
    "name": "ipython",
    "version": 3
   },
   "file_extension": ".py",
   "mimetype": "text/x-python",
   "name": "python",
   "nbconvert_exporter": "python",
   "pygments_lexer": "ipython3",
   "version": "3.9.13"
  }
 },
 "nbformat": 4,
 "nbformat_minor": 5
}
